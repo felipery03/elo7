{
 "cells": [
  {
   "cell_type": "markdown",
   "id": "a947016a-a5f2-4af1-9a72-7bffac176aa7",
   "metadata": {},
   "source": [
    "# Classificador de Categorias dos produtos\n",
    "Nesse notebook foi desenvolvido um classificador para classificar os produtos em 6 categorias:\n",
    "- Bebê\n",
    "- Bijuterias e Jóias\n",
    "- Decoração\n",
    "- Lembrancinhas\n",
    "- Papel e Cia\n",
    "- Outros\n",
    "\n",
    "Como o intuito é demonstrar o conceito da solução, então não foram utilizadas técnicas de hyperparameter tunning.\n",
    "\n",
    "O dataset utilizado pode ser encontrado nesse [link](https://elo7-datasets.s3.amazonaws.com/data_scientist_position/elo7_recruitment_dataset.csv), e ele foi baixado na data 28/03/2022. "
   ]
  },
  {
   "cell_type": "code",
   "execution_count": 1,
   "id": "f8f238fd-921a-4db6-ba5c-70d5ad7eff44",
   "metadata": {},
   "outputs": [],
   "source": [
    "import numpy as np\n",
    "import pandas as pd\n",
    "\n",
    "from sklearn.pipeline import Pipeline, FeatureUnion\n",
    "from sklearn.feature_extraction.text import CountVectorizer, TfidfTransformer\n",
    "from sklearn.multioutput import MultiOutputClassifier\n",
    "from sklearn.linear_model import LogisticRegression\n",
    "from sklearn.ensemble import RandomForestClassifier\n",
    "from sklearn.metrics import classification_report\n",
    "from sklearn.utils.class_weight import compute_class_weight\n",
    "from catboost import CatBoostClassifier\n",
    "\n",
    "from utils.utils import tokenize, save_model\n",
    "from utils.estimators import FilterColumns, FillMissing, CalcSellerFeatures\n",
    "from utils.metrics import calc_mean_f1\n",
    "\n",
    "RANDOM_SEED = 0"
   ]
  },
  {
   "cell_type": "code",
   "execution_count": 2,
   "id": "7951704d-efd5-42bf-a376-880a90d8a91b",
   "metadata": {},
   "outputs": [],
   "source": [
    "df = pd.read_csv('../data/elo7_recruitment_dataset.csv')"
   ]
  },
  {
   "cell_type": "code",
   "execution_count": 3,
   "id": "710b220e-6bdd-41f4-9e73-aa2c7be8a866",
   "metadata": {},
   "outputs": [
    {
     "data": {
      "text/html": [
       "<div>\n",
       "<style scoped>\n",
       "    .dataframe tbody tr th:only-of-type {\n",
       "        vertical-align: middle;\n",
       "    }\n",
       "\n",
       "    .dataframe tbody tr th {\n",
       "        vertical-align: top;\n",
       "    }\n",
       "\n",
       "    .dataframe thead th {\n",
       "        text-align: right;\n",
       "    }\n",
       "</style>\n",
       "<table border=\"1\" class=\"dataframe\">\n",
       "  <thead>\n",
       "    <tr style=\"text-align: right;\">\n",
       "      <th></th>\n",
       "      <th>product_id</th>\n",
       "      <th>seller_id</th>\n",
       "      <th>query</th>\n",
       "      <th>search_page</th>\n",
       "      <th>position</th>\n",
       "      <th>title</th>\n",
       "      <th>concatenated_tags</th>\n",
       "      <th>creation_date</th>\n",
       "      <th>price</th>\n",
       "      <th>weight</th>\n",
       "      <th>express_delivery</th>\n",
       "      <th>minimum_quantity</th>\n",
       "      <th>view_counts</th>\n",
       "      <th>order_counts</th>\n",
       "      <th>category</th>\n",
       "    </tr>\n",
       "  </thead>\n",
       "  <tbody>\n",
       "    <tr>\n",
       "      <th>0</th>\n",
       "      <td>11394449</td>\n",
       "      <td>8324141</td>\n",
       "      <td>espirito santo</td>\n",
       "      <td>2</td>\n",
       "      <td>6</td>\n",
       "      <td>Mandala Espírito Santo</td>\n",
       "      <td>mandala mdf</td>\n",
       "      <td>2015-11-14 19:42:12</td>\n",
       "      <td>171.890000</td>\n",
       "      <td>1200.0</td>\n",
       "      <td>1</td>\n",
       "      <td>4</td>\n",
       "      <td>244</td>\n",
       "      <td>NaN</td>\n",
       "      <td>Decoração</td>\n",
       "    </tr>\n",
       "    <tr>\n",
       "      <th>1</th>\n",
       "      <td>15534262</td>\n",
       "      <td>6939286</td>\n",
       "      <td>cartao de visita</td>\n",
       "      <td>2</td>\n",
       "      <td>0</td>\n",
       "      <td>Cartão de Visita</td>\n",
       "      <td>cartao visita panfletos tag adesivos copos lon...</td>\n",
       "      <td>2018-04-04 20:55:07</td>\n",
       "      <td>77.670000</td>\n",
       "      <td>8.0</td>\n",
       "      <td>1</td>\n",
       "      <td>5</td>\n",
       "      <td>124</td>\n",
       "      <td>NaN</td>\n",
       "      <td>Papel e Cia</td>\n",
       "    </tr>\n",
       "    <tr>\n",
       "      <th>2</th>\n",
       "      <td>16153119</td>\n",
       "      <td>9835835</td>\n",
       "      <td>expositor de esmaltes</td>\n",
       "      <td>1</td>\n",
       "      <td>38</td>\n",
       "      <td>Organizador expositor p/ 70 esmaltes</td>\n",
       "      <td>expositor</td>\n",
       "      <td>2018-10-13 20:57:07</td>\n",
       "      <td>73.920006</td>\n",
       "      <td>2709.0</td>\n",
       "      <td>1</td>\n",
       "      <td>1</td>\n",
       "      <td>59</td>\n",
       "      <td>NaN</td>\n",
       "      <td>Outros</td>\n",
       "    </tr>\n",
       "    <tr>\n",
       "      <th>3</th>\n",
       "      <td>15877252</td>\n",
       "      <td>8071206</td>\n",
       "      <td>medidas lencol para berco americano</td>\n",
       "      <td>1</td>\n",
       "      <td>6</td>\n",
       "      <td>Jogo de Lençol Berço Estampado</td>\n",
       "      <td>t jogo lencol menino lencol berco</td>\n",
       "      <td>2017-02-27 13:26:03</td>\n",
       "      <td>118.770004</td>\n",
       "      <td>0.0</td>\n",
       "      <td>1</td>\n",
       "      <td>1</td>\n",
       "      <td>180</td>\n",
       "      <td>1.0</td>\n",
       "      <td>Bebê</td>\n",
       "    </tr>\n",
       "    <tr>\n",
       "      <th>4</th>\n",
       "      <td>15917108</td>\n",
       "      <td>7200773</td>\n",
       "      <td>adesivo box banheiro</td>\n",
       "      <td>3</td>\n",
       "      <td>38</td>\n",
       "      <td>ADESIVO BOX DE BANHEIRO</td>\n",
       "      <td>adesivo box banheiro</td>\n",
       "      <td>2017-05-09 13:18:38</td>\n",
       "      <td>191.810000</td>\n",
       "      <td>507.0</td>\n",
       "      <td>1</td>\n",
       "      <td>6</td>\n",
       "      <td>34</td>\n",
       "      <td>NaN</td>\n",
       "      <td>Decoração</td>\n",
       "    </tr>\n",
       "  </tbody>\n",
       "</table>\n",
       "</div>"
      ],
      "text/plain": [
       "   product_id  seller_id                                query  search_page  \\\n",
       "0    11394449    8324141                       espirito santo            2   \n",
       "1    15534262    6939286                     cartao de visita            2   \n",
       "2    16153119    9835835                expositor de esmaltes            1   \n",
       "3    15877252    8071206  medidas lencol para berco americano            1   \n",
       "4    15917108    7200773                 adesivo box banheiro            3   \n",
       "\n",
       "   position                                 title  \\\n",
       "0         6                Mandala Espírito Santo   \n",
       "1         0                      Cartão de Visita   \n",
       "2        38  Organizador expositor p/ 70 esmaltes   \n",
       "3         6        Jogo de Lençol Berço Estampado   \n",
       "4        38               ADESIVO BOX DE BANHEIRO   \n",
       "\n",
       "                                   concatenated_tags        creation_date  \\\n",
       "0                                        mandala mdf  2015-11-14 19:42:12   \n",
       "1  cartao visita panfletos tag adesivos copos lon...  2018-04-04 20:55:07   \n",
       "2                                          expositor  2018-10-13 20:57:07   \n",
       "3                  t jogo lencol menino lencol berco  2017-02-27 13:26:03   \n",
       "4                               adesivo box banheiro  2017-05-09 13:18:38   \n",
       "\n",
       "        price  weight  express_delivery  minimum_quantity  view_counts  \\\n",
       "0  171.890000  1200.0                 1                 4          244   \n",
       "1   77.670000     8.0                 1                 5          124   \n",
       "2   73.920006  2709.0                 1                 1           59   \n",
       "3  118.770004     0.0                 1                 1          180   \n",
       "4  191.810000   507.0                 1                 6           34   \n",
       "\n",
       "   order_counts     category  \n",
       "0           NaN    Decoração  \n",
       "1           NaN  Papel e Cia  \n",
       "2           NaN       Outros  \n",
       "3           1.0         Bebê  \n",
       "4           NaN    Decoração  "
      ]
     },
     "execution_count": 3,
     "metadata": {},
     "output_type": "execute_result"
    }
   ],
   "source": [
    "df.head()"
   ]
  },
  {
   "cell_type": "markdown",
   "id": "32b938db-457a-406f-bfcc-c85b9ca4107d",
   "metadata": {},
   "source": [
    "## Train test split"
   ]
  },
  {
   "cell_type": "markdown",
   "id": "fe6e03d7-13d3-4920-9756-8c7f368c8654",
   "metadata": {},
   "source": [
    "O split temporal foi feito pela ordenação da data de criação do produto. Esse ponto é necessário para evitar vazamento de informação, pois algumas variáveis que foram testadas podem ter efeitos diferentes devido ao tempo. Como por exemplo, a categoria vendida pelo mesmo vendedor do produto. Se fosse feito um split aleatório, vendedores que já pararam de cadastrar novos produtos poderiam ter produtos no treino e no teste, assim tornando o problema mais fácil, porém com resultados divergentes de quando ele seria colocado em produção."
   ]
  },
  {
   "cell_type": "markdown",
   "id": "255784cb-0452-47eb-a981-36490ea460b4",
   "metadata": {},
   "source": [
    "O tamanho dos datasets foram escolhidos arbitrariamente, só tomando o cuidado para que nos conjuntos de validação e teste tivessem registros suficientes para as distribuições das categorias não mudarem tanto."
   ]
  },
  {
   "cell_type": "code",
   "execution_count": 4,
   "id": "e34d69a0-ae61-4b30-8e86-555503c095df",
   "metadata": {},
   "outputs": [],
   "source": [
    "# 70% for train set\n",
    "train_size = int(df.shape[0]* 0.7)\n",
    "\n",
    "# Split between val e test sets\n",
    "test_size = int((df.shape[0] - train_size)/2)\n",
    "\n",
    "# Sort dataset\n",
    "df_sorted = df.sort_values(by='creation_date')\n",
    "\n",
    "df_train = df_sorted.iloc[:train_size]\n",
    "df_val = df_sorted.iloc[train_size:train_size+test_size]\n",
    "df_test = df_sorted.iloc[train_size+test_size:]"
   ]
  },
  {
   "cell_type": "markdown",
   "id": "bfadbffc-07e6-455c-8bdf-6c5d0e50fe2e",
   "metadata": {},
   "source": [
    "A coluna \"query\" não será utilizada nesse momento para classificação, assumindo que o produto precise ser classificado no momento em que ele é cadastrado. A informação de query poderia ser utilizada como corpus, dado que temos termos de busca relacionado com uma categoria, mas as abordagem adotadas foram mais simples."
   ]
  },
  {
   "cell_type": "markdown",
   "id": "b1d2a588-f8ba-4459-8b65-ad07e2479bb6",
   "metadata": {},
   "source": [
    "As colunas \"search_page\", \"position\", \"view_counts\", \"order_counts\" também não serão utilizados para a classificação pois essa informação não estará disponível no momento do cadastro."
   ]
  },
  {
   "cell_type": "code",
   "execution_count": 5,
   "id": "af06b311-2ac8-4fad-ad31-8c9fa2ff4f4a",
   "metadata": {},
   "outputs": [],
   "source": [
    "vars = ['seller_id',\n",
    "        'title',\n",
    "        'concatenated_tags',\n",
    "        'price',\n",
    "        'weight',\n",
    "        'express_delivery',\n",
    "        'minimum_quantity']\n",
    "\n",
    "target = ['category']"
   ]
  },
  {
   "cell_type": "code",
   "execution_count": 6,
   "id": "ad1ab933-e40f-452f-9ac6-c303be6ccd9d",
   "metadata": {},
   "outputs": [],
   "source": [
    "X_train, y_train = df_train[vars], df_train[target]\n",
    "X_val, y_val = df_val[vars], df_val[target]\n",
    "X_test, y_test = df_test[vars], df_test[target]"
   ]
  },
  {
   "cell_type": "code",
   "execution_count": 7,
   "id": "62cc4414-b31e-45f3-a3a0-53b86b8f1280",
   "metadata": {},
   "outputs": [
    {
     "name": "stdout",
     "output_type": "stream",
     "text": [
      " X_train shape: (26954, 7), y_train shape:(26954, 1)\n",
      " X_val shape: (5776, 7), y_val shape:(5776, 1)\n",
      " X_test shape: (5777, 7), y_test shape:(5777, 1)\n"
     ]
    }
   ],
   "source": [
    "print(f' X_train shape: {X_train.shape}, y_train shape:{y_train.shape}')\n",
    "print(f' X_val shape: {X_val.shape}, y_val shape:{y_val.shape}')\n",
    "print(f' X_test shape: {X_test.shape}, y_test shape:{y_test.shape}')"
   ]
  },
  {
   "cell_type": "markdown",
   "id": "0a0b9c19-5093-475c-bd2e-d334b64d8df5",
   "metadata": {},
   "source": [
    "Os módulos de dataprep foram encapsulados no pacote 'utils'. Eles contém algumas limpezas de texto para gerar os vetores tf-idf como remoção de acentos, numerais e pontuação, transformação em letras minúsculas, remoção de stopwords, tokenização e aplicação de steammer. Além disso, foram criados alguns módulos de preechimento de missing values com abordagens padrões de input da mediana ou texto vazio e outras classes para auxiliar a utilização dos pipelines."
   ]
  },
  {
   "cell_type": "markdown",
   "id": "59ae3197-8f53-4914-b095-1281e3a05bd9",
   "metadata": {},
   "source": [
    "## Modelagem"
   ]
  },
  {
   "cell_type": "markdown",
   "id": "05bbe85f-9d26-4665-ace8-3609dcaa9b41",
   "metadata": {},
   "source": [
    "#### Abordagem 1\n",
    "Utilizar apenas as variáveis textuais 'title' e 'concatenated_tags' transformados em vetores tf-idf. Como classificador foi utilizado uma regressão logística com estratégia de one-vs-all para tratar o target multiclasse. Para contornar o desbalanceamento, utilizar o class_weight do próprio modelo. O tamanho dos vetores de tf-idf foram escolhidos arbitráriamente com o tamanho 1000, para otimizar o tempo de treinamento mas ao mesmo tempo capturar bastante informação."
   ]
  },
  {
   "cell_type": "code",
   "execution_count": 8,
   "id": "f5169f6f-79fa-4d9f-8260-b56c78801f11",
   "metadata": {},
   "outputs": [],
   "source": [
    "pipeline_1 = Pipeline([\n",
    "    ('fill_missing', FillMissing()),\n",
    "    ('features', FeatureUnion([\n",
    "        ('title_feats', Pipeline([\n",
    "            ('filter_title', FilterColumns('title')),\n",
    "            ('vect_title', CountVectorizer(tokenizer=tokenize, max_features=1000)),\n",
    "            ('tfidf_title', TfidfTransformer())     \n",
    "        ])),\n",
    "        ('tags_feats', Pipeline([\n",
    "            ('filter_tags', FilterColumns('concatenated_tags')),\n",
    "            ('vect_tags', CountVectorizer(tokenizer=tokenize, max_features=1000)),\n",
    "            ('tfidf_tags', TfidfTransformer())     \n",
    "        ]))\n",
    "    ])),\n",
    "    ('clf', MultiOutputClassifier(LogisticRegression(class_weight='balanced', max_iter=1000), n_jobs=5))\n",
    "])"
   ]
  },
  {
   "cell_type": "markdown",
   "id": "a074f5bc-f410-414b-9a42-4a77197c21a7",
   "metadata": {},
   "source": [
    "- Fit"
   ]
  },
  {
   "cell_type": "code",
   "execution_count": 9,
   "id": "cde9a38f-b76e-4bcd-88f3-45b72fb8ab1b",
   "metadata": {},
   "outputs": [],
   "source": [
    "pipeline_1.fit(X_train, y_train);"
   ]
  },
  {
   "cell_type": "markdown",
   "id": "95d3df94-7772-496d-8edb-956de056be06",
   "metadata": {},
   "source": [
    "- Predict"
   ]
  },
  {
   "cell_type": "code",
   "execution_count": 10,
   "id": "49f64e22-63ec-42af-8e7c-7586f23fa410",
   "metadata": {},
   "outputs": [],
   "source": [
    "pred_train_1 = pipeline_1.predict(X_train)\n",
    "pred_val_1 = pipeline_1.predict(X_val)"
   ]
  },
  {
   "cell_type": "markdown",
   "id": "90a3c50e-3782-4fca-8271-1c19ba4b41cf",
   "metadata": {},
   "source": [
    "- Avaliação do Modelo"
   ]
  },
  {
   "cell_type": "markdown",
   "id": "80c576b9-eca6-4b3f-a66f-0fdc4562dd07",
   "metadata": {},
   "source": [
    "Como métrica de validação do modelo foi utilizada o f1-score, pois ele considera o precision (taxa de acerto quando o modelo faz uma previsão) que está ligado diretamente com a taxa de acerto para as ações que utilizarão o modelo. E o recall(quantos exemplos verdadeiros da população toda o modelo conseguiu \"capturar\" com as previsões) que acaba evitando que o modelo deixe de lado alguma classe mais difícil de prever e só foque nas outras. É importante ter uma métrica única para comparar os modelos, portanto essa será a média não ponderada do f1-score de cada classe com exceção de 'outros'. Não foi realizada a ponderação por distribuição das classes, considerando igualmente importante cada classe."
   ]
  },
  {
   "cell_type": "code",
   "execution_count": 11,
   "id": "04f1fe05-abd8-4fd8-b561-fc9fce29ec5f",
   "metadata": {},
   "outputs": [
    {
     "name": "stdout",
     "output_type": "stream",
     "text": [
      "Approach 1 train set (f1-score): 0.8822\n"
     ]
    }
   ],
   "source": [
    "f1_train_1 = calc_mean_f1(y_train, pred_train_1)\n",
    "print(f'Approach 1 train set (f1-score): {f1_train_1}')"
   ]
  },
  {
   "cell_type": "code",
   "execution_count": 12,
   "id": "3fa0f066-4ee2-450b-804a-3ff61e519f29",
   "metadata": {},
   "outputs": [
    {
     "name": "stdout",
     "output_type": "stream",
     "text": [
      "Approach 1 val set (f1-score): 0.8176\n"
     ]
    }
   ],
   "source": [
    "f1_val_1 = calc_mean_f1(y_val, pred_val_1)\n",
    "print(f'Approach 1 val set (f1-score): {f1_val_1}')"
   ]
  },
  {
   "cell_type": "code",
   "execution_count": 13,
   "id": "9de5747b-45f3-4bb1-9ad4-8f32bf2466a9",
   "metadata": {},
   "outputs": [],
   "source": [
    "# Store target classes\n",
    "classes = np.unique(y_train)"
   ]
  },
  {
   "cell_type": "code",
   "execution_count": 14,
   "id": "3223d5b0-b915-4703-a231-13db8105c325",
   "metadata": {},
   "outputs": [
    {
     "name": "stdout",
     "output_type": "stream",
     "text": [
      "                    precision    recall  f1-score   support\n",
      "\n",
      "              Bebê       0.83      0.87      0.85      1071\n",
      "Bijuterias e Jóias       0.87      0.94      0.90       110\n",
      "         Decoração       0.87      0.85      0.86      1149\n",
      "     Lembrancinhas       0.92      0.84      0.88      2898\n",
      "            Outros       0.55      0.75      0.63       178\n",
      "       Papel e Cia       0.50      0.74      0.59       370\n",
      "\n",
      "          accuracy                           0.84      5776\n",
      "         macro avg       0.76      0.83      0.79      5776\n",
      "      weighted avg       0.86      0.84      0.84      5776\n",
      "\n"
     ]
    }
   ],
   "source": [
    "print(classification_report(y_val, pred_val_1, target_names=classes))"
   ]
  },
  {
   "cell_type": "markdown",
   "id": "cc821639-cda8-4e94-a502-a80f85eb1c45",
   "metadata": {},
   "source": [
    "A classe com menor performance é 'Papel e Cia' e ela não a classe com menos registros (Bijuterias e Jóias). Isso indica que as variáveis utilizadas não tem tanta informação para distinguir essa classe."
   ]
  },
  {
   "cell_type": "code",
   "execution_count": 15,
   "id": "272bf16c-b524-4532-88a8-a699fecbbdf2",
   "metadata": {},
   "outputs": [],
   "source": [
    "# Save results\n",
    "results = {}\n",
    "results['abordagem_1'] = [f1_train_1, f1_val_1]"
   ]
  },
  {
   "cell_type": "markdown",
   "id": "b8cce3a5-b13e-457b-8ba0-8abaa09b21d8",
   "metadata": {},
   "source": [
    "#### Abordagem 2\n",
    "Agora será incluído as variáveis numéricas de 'price', 'weight', 'express_delivery', 'minimum_quantity' e flags de categorias que o vendedor do produto já vende além das features textuais utilizadas na abordagem 1. Como classificador será utilizado uma random forest com estratégia de one-vs-all para tratar o target multiclasse. Para contornar o desbalanceamento, utilizar o class_weight do próprio modelo também.\n",
    "\n",
    "Está sendo utilizando a classe 'CalcSellerFeatures' do pacote 'utils' para transformar o 'seller_id' em um one-hot enconding das classes que ele já vende nos produtos do treino, porém essa variável pode ser problemática por utilizar informação do target e atrapalhar no treinamento do modelo. A hipótese é que o boostrap da random forest só utilizará essa informação em alguns estimadores, e o modelo conseguirá aprender com as outras informações também."
   ]
  },
  {
   "cell_type": "code",
   "execution_count": 16,
   "id": "03855df2-b0db-49c3-9090-816eda7a0d4e",
   "metadata": {},
   "outputs": [],
   "source": [
    "num_vars = ['seller_id',\n",
    "            'price',\n",
    "            'weight',\n",
    "            'express_delivery',\n",
    "            'minimum_quantity']\n",
    "\n",
    "pipeline_2 = Pipeline([\n",
    "    ('fill_missing', FillMissing()),\n",
    "    ('features', FeatureUnion([\n",
    "        ('title_feats', Pipeline([\n",
    "            ('filter_title', FilterColumns('title')),\n",
    "            ('vect_title', CountVectorizer(tokenizer=tokenize, max_features=1000)),\n",
    "            ('tfidf_title', TfidfTransformer())     \n",
    "        ])),\n",
    "        ('tags_feats', Pipeline([\n",
    "            ('filter_tags', FilterColumns('concatenated_tags')),\n",
    "            ('vect_tags', CountVectorizer(tokenizer=tokenize, max_features=1000)),\n",
    "            ('tfidf_tags', TfidfTransformer())     \n",
    "        ])),\n",
    "        ('num_feats', Pipeline([\n",
    "            ('filter_num_features', FilterColumns(num_vars)),\n",
    "            ('process_seller_cats', CalcSellerFeatures()),\n",
    "        ])),\n",
    "    ])),\n",
    "    ('rf', MultiOutputClassifier(RandomForestClassifier(class_weight='balanced',\n",
    "                                             random_state=RANDOM_SEED), n_jobs=1))\n",
    "])"
   ]
  },
  {
   "cell_type": "markdown",
   "id": "a8c14472-3448-4060-8716-7b1b1bf9fce5",
   "metadata": {},
   "source": [
    "- Fit"
   ]
  },
  {
   "cell_type": "code",
   "execution_count": 17,
   "id": "e0f87840-85ac-40c8-88f4-b0c9b20eec69",
   "metadata": {},
   "outputs": [],
   "source": [
    "_ = pipeline_2.fit(X_train, y_train);"
   ]
  },
  {
   "cell_type": "markdown",
   "id": "2362278c-9b5c-4de3-8226-cbaa8d197b73",
   "metadata": {},
   "source": [
    "- Predict"
   ]
  },
  {
   "cell_type": "code",
   "execution_count": 18,
   "id": "f6409cd0-c1d9-4766-8508-23224db98ac0",
   "metadata": {},
   "outputs": [],
   "source": [
    "pred_train_2 = pipeline_2.predict(X_train)\n",
    "pred_val_2 = pipeline_2.predict(X_val)"
   ]
  },
  {
   "cell_type": "code",
   "execution_count": 19,
   "id": "e7629a5f-4473-4f17-8881-94f567fbf638",
   "metadata": {},
   "outputs": [
    {
     "name": "stdout",
     "output_type": "stream",
     "text": [
      "Approach 2 train set (f1-score): 1.0\n"
     ]
    }
   ],
   "source": [
    "f1_train_2 = calc_mean_f1(y_train, pred_train_2)\n",
    "print(f'Approach 2 train set (f1-score): {f1_train_2}')"
   ]
  },
  {
   "cell_type": "code",
   "execution_count": 20,
   "id": "52283b88-16b8-49ea-ac27-5773f41b73d0",
   "metadata": {},
   "outputs": [
    {
     "name": "stdout",
     "output_type": "stream",
     "text": [
      "Approach 2 val set (f1-score): 0.8453\n"
     ]
    }
   ],
   "source": [
    "f1_val_2 = calc_mean_f1(y_val, pred_val_2)\n",
    "print(f'Approach 2 val set (f1-score): {f1_val_2}')"
   ]
  },
  {
   "cell_type": "code",
   "execution_count": 21,
   "id": "91f5b231-e584-404f-9779-8c154597c948",
   "metadata": {},
   "outputs": [
    {
     "name": "stdout",
     "output_type": "stream",
     "text": [
      "                    precision    recall  f1-score   support\n",
      "\n",
      "              Bebê       0.87      0.86      0.87      1071\n",
      "Bijuterias e Jóias       0.90      0.90      0.90       110\n",
      "         Decoração       0.87      0.83      0.85      1149\n",
      "     Lembrancinhas       0.89      0.94      0.91      2898\n",
      "            Outros       0.75      0.58      0.65       178\n",
      "       Papel e Cia       0.78      0.63      0.70       370\n",
      "\n",
      "          accuracy                           0.87      5776\n",
      "         macro avg       0.84      0.79      0.81      5776\n",
      "      weighted avg       0.87      0.87      0.87      5776\n",
      "\n"
     ]
    }
   ],
   "source": [
    "print(classification_report(y_val, pred_val_2, target_names=classes))"
   ]
  },
  {
   "cell_type": "markdown",
   "id": "641e1bbb-af96-4c97-ac27-bb9ae3d16383",
   "metadata": {},
   "source": [
    "Nessa abordagem os resultados foram melhores, mas é um pouco preocupante o treino ter atingido 1 de f1-score, mostrando sinais de overfit."
   ]
  },
  {
   "cell_type": "code",
   "execution_count": 22,
   "id": "04fa1f1e-f9b1-467d-8c85-f56ae39351cc",
   "metadata": {},
   "outputs": [],
   "source": [
    "# Save Results\n",
    "results['abordagem_2'] = [f1_train_2, f1_val_2]"
   ]
  },
  {
   "cell_type": "markdown",
   "id": "0e8eaa47-338a-4edd-9417-6081471b9e42",
   "metadata": {},
   "source": [
    "## Abordagem 3"
   ]
  },
  {
   "cell_type": "markdown",
   "id": "a99e5a6a-d1d3-4e29-88b8-c6fcaa6fcb8d",
   "metadata": {},
   "source": [
    "Mesma abordagem que a 2, porém removendo as features de seller_id para ver o que acontece com a performance."
   ]
  },
  {
   "cell_type": "code",
   "execution_count": 23,
   "id": "b9279fbf-6ca0-4bc7-96cd-6a4716bb9701",
   "metadata": {},
   "outputs": [],
   "source": [
    "num_vars = ['price',\n",
    "            'weight',\n",
    "            'express_delivery',\n",
    "            'minimum_quantity']\n",
    "\n",
    "pipeline_3 = Pipeline([\n",
    "    ('fill_missing', FillMissing()),\n",
    "    ('features', FeatureUnion([\n",
    "        ('title_feats', Pipeline([\n",
    "            ('filter_title', FilterColumns('title')),\n",
    "            ('vect_title', CountVectorizer(tokenizer=tokenize, max_features=1000)),\n",
    "            ('tfidf_title', TfidfTransformer())     \n",
    "        ])),\n",
    "        ('tags_feats', Pipeline([\n",
    "            ('filter_tags', FilterColumns('concatenated_tags')),\n",
    "            ('vect_tags', CountVectorizer(tokenizer=tokenize, max_features=1000)),\n",
    "            ('tfidf_tags', TfidfTransformer())     \n",
    "        ])),\n",
    "         ('num_features', FilterColumns(num_vars)),\n",
    "         \n",
    "    ])),\n",
    "    ('rf', MultiOutputClassifier(RandomForestClassifier(class_weight='balanced',\n",
    "                                             random_state=RANDOM_SEED)))\n",
    "])"
   ]
  },
  {
   "cell_type": "markdown",
   "id": "58756549-e04c-4375-8333-3b65821a7ac8",
   "metadata": {},
   "source": [
    "- Fit"
   ]
  },
  {
   "cell_type": "code",
   "execution_count": 24,
   "id": "d09365dc-b716-4c53-96a2-ee0e084d6864",
   "metadata": {},
   "outputs": [],
   "source": [
    "_ = pipeline_3.fit(X_train, y_train);"
   ]
  },
  {
   "cell_type": "markdown",
   "id": "620b4405-7dec-42fc-b5d9-a010ad6c8202",
   "metadata": {},
   "source": [
    "- Predict"
   ]
  },
  {
   "cell_type": "code",
   "execution_count": 25,
   "id": "b83628f9-a01e-4947-bc52-67a8e32426f3",
   "metadata": {},
   "outputs": [],
   "source": [
    "pred_train_3 = pipeline_3.predict(X_train)\n",
    "pred_val_3 = pipeline_3.predict(X_val)"
   ]
  },
  {
   "cell_type": "code",
   "execution_count": 26,
   "id": "d92a1026-bbf3-4fc1-87e7-5d59ea2ce391",
   "metadata": {},
   "outputs": [
    {
     "name": "stdout",
     "output_type": "stream",
     "text": [
      "Approach 3 train set (f1-score): 1.0\n"
     ]
    }
   ],
   "source": [
    "f1_train_3 = calc_mean_f1(y_train, pred_train_3)\n",
    "print(f'Approach 3 train set (f1-score): {f1_train_3}')"
   ]
  },
  {
   "cell_type": "code",
   "execution_count": 27,
   "id": "156c9af9-aab7-493a-a20a-d2729958b90f",
   "metadata": {},
   "outputs": [
    {
     "name": "stdout",
     "output_type": "stream",
     "text": [
      "Approach 3 val set (f1-score): 0.8296\n"
     ]
    }
   ],
   "source": [
    "f1_val_3 = calc_mean_f1(y_val, pred_val_3)\n",
    "print(f'Approach 3 val set (f1-score): {f1_val_3}')"
   ]
  },
  {
   "cell_type": "code",
   "execution_count": 28,
   "id": "a3c6afc4-5a6b-4b19-b765-c4ebfc664df5",
   "metadata": {},
   "outputs": [
    {
     "name": "stdout",
     "output_type": "stream",
     "text": [
      "                    precision    recall  f1-score   support\n",
      "\n",
      "              Bebê       0.91      0.80      0.86      1071\n",
      "Bijuterias e Jóias       0.96      0.92      0.94       110\n",
      "         Decoração       0.85      0.89      0.87      1149\n",
      "     Lembrancinhas       0.87      0.96      0.91      2898\n",
      "            Outros       0.92      0.48      0.63       178\n",
      "       Papel e Cia       0.73      0.47      0.57       370\n",
      "\n",
      "          accuracy                           0.87      5776\n",
      "         macro avg       0.87      0.75      0.80      5776\n",
      "      weighted avg       0.87      0.87      0.86      5776\n",
      "\n"
     ]
    }
   ],
   "source": [
    "print(classification_report(y_val, pred_val_3, target_names=classes))"
   ]
  },
  {
   "cell_type": "markdown",
   "id": "bcfdf2e8-eac7-463b-9a8f-372911868ca1",
   "metadata": {},
   "source": [
    "Mesmo removendo as features de seller, o a performance do treino ainda está com o mesmo comportamento. Porém a performance da validação caiu 0.0157."
   ]
  },
  {
   "cell_type": "code",
   "execution_count": 29,
   "id": "2ec6abd4-7282-4f0b-9d0b-75ccaa02fe20",
   "metadata": {},
   "outputs": [],
   "source": [
    "# Save results\n",
    "results['abordagem_3'] = [f1_train_3, f1_val_3]"
   ]
  },
  {
   "cell_type": "markdown",
   "id": "5afb36a7-df66-4765-986a-0f0dfe63ce75",
   "metadata": {},
   "source": [
    "#### Abordagem 4\n",
    "Nessa abordagem foram utilizadas as mesmas variáveis da abordagem 2 alterando classificador para um catboost. Além dele ser um algoritmo de boosting podendo ser mais potente que um de bagging, o catboost tende a não precisar de tanto tuning de hiperparâmetros como o gxboost. Ao invés de utilizar o MultiOutputClassifier, foi utilizado a função de custo adequada para o problema multiclasse."
   ]
  },
  {
   "cell_type": "code",
   "execution_count": 30,
   "id": "82a93904-e0c3-49b0-9b78-6c29f7326836",
   "metadata": {},
   "outputs": [],
   "source": [
    "# Calculate weights vector manually to use catboost class_weight\n",
    "\n",
    "weights = compute_class_weight(class_weight='balanced',\n",
    "                               classes=classes,\n",
    "                               y=y_train.category)"
   ]
  },
  {
   "cell_type": "code",
   "execution_count": 31,
   "id": "da494a02-c405-482e-9b4e-875403ee2cb9",
   "metadata": {},
   "outputs": [],
   "source": [
    "num_vars = ['seller_id',\n",
    "            'price',\n",
    "            'weight',\n",
    "            'express_delivery',\n",
    "            'minimum_quantity']\n",
    "\n",
    "pipeline_4 = Pipeline([\n",
    "    ('fill_missing', FillMissing()),\n",
    "    ('features', FeatureUnion([\n",
    "        ('title_feats', Pipeline([\n",
    "            ('filter_title', FilterColumns('title')),\n",
    "            ('vect_title', CountVectorizer(tokenizer=tokenize, max_features=1000)),\n",
    "            ('tfidf_title', TfidfTransformer())     \n",
    "        ])),\n",
    "        ('tags_feats', Pipeline([\n",
    "            ('filter_tags', FilterColumns('concatenated_tags')),\n",
    "            ('vect_tags', CountVectorizer(tokenizer=tokenize, max_features=1000)),\n",
    "            ('tfidf_tags', TfidfTransformer())     \n",
    "        ])),\n",
    "        ('num_feats', Pipeline([\n",
    "            ('filter_num_features', FilterColumns(num_vars)),\n",
    "            ('process_seller_cats', CalcSellerFeatures()),\n",
    "        ])),\n",
    "    ])),\n",
    "    ('catboost', CatBoostClassifier(loss_function='MultiClass', class_weights=weights,\n",
    "                random_state=RANDOM_SEED, verbose=False))\n",
    "])"
   ]
  },
  {
   "cell_type": "markdown",
   "id": "45698625-43a5-4a6c-9e56-98f0af9af898",
   "metadata": {},
   "source": [
    "- Fit"
   ]
  },
  {
   "cell_type": "code",
   "execution_count": 32,
   "id": "2a99a446-b4f9-4781-88b9-515a1960d2ab",
   "metadata": {
    "tags": []
   },
   "outputs": [],
   "source": [
    "pipeline_4.fit(X_train, y_train);"
   ]
  },
  {
   "cell_type": "markdown",
   "id": "85403a8a-1df8-4d2a-ab5d-90f2cd9ebffd",
   "metadata": {},
   "source": [
    "- Predict"
   ]
  },
  {
   "cell_type": "code",
   "execution_count": 33,
   "id": "c6acd7b8-cecb-42ec-9a9a-73ddea4d9136",
   "metadata": {},
   "outputs": [],
   "source": [
    "pred_train_4 = pipeline_4.predict(X_train)\n",
    "pred_val_4 = pipeline_4.predict(X_val)"
   ]
  },
  {
   "cell_type": "code",
   "execution_count": 34,
   "id": "dc2913ae-154a-4860-86c0-88f11ca66952",
   "metadata": {},
   "outputs": [
    {
     "name": "stdout",
     "output_type": "stream",
     "text": [
      "Approach 4 train set (f1-score): 0.9476\n"
     ]
    }
   ],
   "source": [
    "f1_train_4 = calc_mean_f1(y_train, pred_train_4)\n",
    "print(f'Approach 4 train set (f1-score): {f1_train_4}')"
   ]
  },
  {
   "cell_type": "code",
   "execution_count": 35,
   "id": "59cf4bd3-fb59-4afb-a9a6-eaeb96b362eb",
   "metadata": {},
   "outputs": [
    {
     "name": "stdout",
     "output_type": "stream",
     "text": [
      "Approach 4 val set (f1-score): 0.6089\n"
     ]
    }
   ],
   "source": [
    "f1_val_4 = calc_mean_f1(y_val, pred_val_4)\n",
    "print(f'Approach 4 val set (f1-score): {f1_val_4}')"
   ]
  },
  {
   "cell_type": "code",
   "execution_count": 36,
   "id": "853a09a8-3b38-49b0-bd7f-48f1108145b9",
   "metadata": {},
   "outputs": [
    {
     "name": "stdout",
     "output_type": "stream",
     "text": [
      "                    precision    recall  f1-score   support\n",
      "\n",
      "              Bebê       0.87      0.62      0.73      1071\n",
      "Bijuterias e Jóias       0.14      0.92      0.24       110\n",
      "         Decoração       0.86      0.54      0.67      1149\n",
      "     Lembrancinhas       0.83      0.88      0.86      2898\n",
      "            Outros       0.54      0.38      0.45       178\n",
      "       Papel e Cia       0.57      0.54      0.55       370\n",
      "\n",
      "          accuracy                           0.73      5776\n",
      "         macro avg       0.63      0.65      0.58      5776\n",
      "      weighted avg       0.81      0.73      0.75      5776\n",
      "\n"
     ]
    }
   ],
   "source": [
    "print(classification_report(y_val, pred_val_4, target_names=classes))"
   ]
  },
  {
   "cell_type": "markdown",
   "id": "ba3ff71a-59f1-4fbc-807c-d0b9b175e0e2",
   "metadata": {},
   "source": [
    "O modelo está apresentando overfit, com uma performance de validação muito ruim."
   ]
  },
  {
   "cell_type": "code",
   "execution_count": 37,
   "id": "d9249c89-2b1a-4e68-ad79-a2848d987907",
   "metadata": {},
   "outputs": [],
   "source": [
    "# Save Results\n",
    "results['abordagem_4'] = [f1_train_4, f1_val_4]"
   ]
  },
  {
   "cell_type": "markdown",
   "id": "4f871625-0820-4bc3-a782-96852c8a2a04",
   "metadata": {},
   "source": [
    "## Abordagem 5"
   ]
  },
  {
   "cell_type": "markdown",
   "id": "79fd0d35-ca4f-4d06-ab3e-19907027528c",
   "metadata": {},
   "source": [
    "Mesma abordagem que a anterior, só que removendo as features de id_seller porque existe a suspeita que elas estão fazendo o modelo ter overfit."
   ]
  },
  {
   "cell_type": "code",
   "execution_count": 38,
   "id": "a8b7be40-6c06-4801-9c1a-c24fa832a052",
   "metadata": {},
   "outputs": [],
   "source": [
    "num_vars = ['price',\n",
    "            'weight',\n",
    "            'express_delivery',\n",
    "            'minimum_quantity']\n",
    "\n",
    "pipeline_5 = Pipeline([\n",
    "    ('fill_missing', FillMissing()),\n",
    "    ('features', FeatureUnion([\n",
    "        ('title_feats', Pipeline([\n",
    "            ('filter_title', FilterColumns('title')),\n",
    "            ('vect_title', CountVectorizer(tokenizer=tokenize, max_features=1000)),\n",
    "            ('tfidf_title', TfidfTransformer())     \n",
    "        ])),\n",
    "        ('tags_feats', Pipeline([\n",
    "            ('filter_tags', FilterColumns('concatenated_tags')),\n",
    "            ('vect_tags', CountVectorizer(tokenizer=tokenize, max_features=1000)),\n",
    "            ('tfidf_tags', TfidfTransformer())     \n",
    "        ])),\n",
    "        ('num_features', FilterColumns(num_vars)),\n",
    "      \n",
    "    ])),\n",
    "    ('catboost', CatBoostClassifier(loss_function='MultiClass', class_weights=weights,\n",
    "                random_state=RANDOM_SEED, verbose=False))\n",
    "])"
   ]
  },
  {
   "cell_type": "markdown",
   "id": "97046120-e26b-4a85-95b9-23f67bcbfda3",
   "metadata": {},
   "source": [
    "- Fit"
   ]
  },
  {
   "cell_type": "code",
   "execution_count": 39,
   "id": "b8c6ba61-6955-47ef-a7e5-4e103c9c63c0",
   "metadata": {},
   "outputs": [],
   "source": [
    "pipeline_5.fit(X_train, y_train);"
   ]
  },
  {
   "cell_type": "markdown",
   "id": "f05bd854-c8a2-4054-9d0d-a751d1518678",
   "metadata": {},
   "source": [
    "- Predict"
   ]
  },
  {
   "cell_type": "code",
   "execution_count": 40,
   "id": "274efc0c-5f3f-4491-b693-1fe120ff0238",
   "metadata": {},
   "outputs": [],
   "source": [
    "pred_train_5 = pipeline_5.predict(X_train)\n",
    "pred_val_5 = pipeline_5.predict(X_val)"
   ]
  },
  {
   "cell_type": "code",
   "execution_count": 41,
   "id": "edf1a106-20e3-4258-b315-f80bdb26f744",
   "metadata": {},
   "outputs": [
    {
     "name": "stdout",
     "output_type": "stream",
     "text": [
      "Approach 5 train set (f1-score): 0.8654\n"
     ]
    }
   ],
   "source": [
    "f1_train_5 = calc_mean_f1(y_train, pred_train_5)\n",
    "print(f'Approach 5 train set (f1-score): {f1_train_5}')"
   ]
  },
  {
   "cell_type": "code",
   "execution_count": 42,
   "id": "6e3a1bb7-21ef-4f3c-b83c-9a1378fed252",
   "metadata": {},
   "outputs": [
    {
     "name": "stdout",
     "output_type": "stream",
     "text": [
      "Approach 5 val set (f1-score): 0.8187\n"
     ]
    }
   ],
   "source": [
    "f1_val_5 = calc_mean_f1(y_val, pred_val_5)\n",
    "print(f'Approach 5 val set (f1-score): {f1_val_5}')"
   ]
  },
  {
   "cell_type": "code",
   "execution_count": 43,
   "id": "2580a194-b9cd-4ca6-a867-03a4ef4a19ef",
   "metadata": {},
   "outputs": [
    {
     "name": "stdout",
     "output_type": "stream",
     "text": [
      "                    precision    recall  f1-score   support\n",
      "\n",
      "              Bebê       0.84      0.81      0.83      1071\n",
      "Bijuterias e Jóias       0.87      0.95      0.91       110\n",
      "         Decoração       0.87      0.87      0.87      1149\n",
      "     Lembrancinhas       0.92      0.86      0.89      2898\n",
      "            Outros       0.56      0.79      0.65       178\n",
      "       Papel e Cia       0.51      0.72      0.60       370\n",
      "\n",
      "          accuracy                           0.84      5776\n",
      "         macro avg       0.76      0.83      0.79      5776\n",
      "      weighted avg       0.86      0.84      0.85      5776\n",
      "\n"
     ]
    }
   ],
   "source": [
    "print(classification_report(y_val, pred_val_5, target_names=classes))"
   ]
  },
  {
   "cell_type": "markdown",
   "id": "14a1bd30-68bb-4957-ba92-ab1d8b515d1e",
   "metadata": {},
   "source": [
    "Deu certo a remoção das variáveis de seller, e modelo está com a performance dos conjuntos de treino e validação próximas indicando que está mais ajustado que os outros, favorecendo sua generalização para novos dados."
   ]
  },
  {
   "cell_type": "code",
   "execution_count": 44,
   "id": "f364fbf5-a3b4-4251-9995-37c509cf3e23",
   "metadata": {},
   "outputs": [],
   "source": [
    "# Save Results\n",
    "results['abordagem_5'] = [f1_train_5, f1_val_5]"
   ]
  },
  {
   "cell_type": "markdown",
   "id": "60005c5b-4d59-496f-a9a3-2f1e79a30d59",
   "metadata": {},
   "source": [
    "## Resultados"
   ]
  },
  {
   "cell_type": "code",
   "execution_count": 45,
   "id": "9c63c2c7-17e4-4997-9a27-2c22c3e7106e",
   "metadata": {},
   "outputs": [
    {
     "data": {
      "text/html": [
       "<div>\n",
       "<style scoped>\n",
       "    .dataframe tbody tr th:only-of-type {\n",
       "        vertical-align: middle;\n",
       "    }\n",
       "\n",
       "    .dataframe tbody tr th {\n",
       "        vertical-align: top;\n",
       "    }\n",
       "\n",
       "    .dataframe thead th {\n",
       "        text-align: right;\n",
       "    }\n",
       "</style>\n",
       "<table border=\"1\" class=\"dataframe\">\n",
       "  <thead>\n",
       "    <tr style=\"text-align: right;\">\n",
       "      <th></th>\n",
       "      <th>f1_train</th>\n",
       "      <th>f1_val</th>\n",
       "    </tr>\n",
       "  </thead>\n",
       "  <tbody>\n",
       "    <tr>\n",
       "      <th>abordagem_1</th>\n",
       "      <td>0.8822</td>\n",
       "      <td>0.8176</td>\n",
       "    </tr>\n",
       "    <tr>\n",
       "      <th>abordagem_2</th>\n",
       "      <td>1.0000</td>\n",
       "      <td>0.8453</td>\n",
       "    </tr>\n",
       "    <tr>\n",
       "      <th>abordagem_3</th>\n",
       "      <td>1.0000</td>\n",
       "      <td>0.8296</td>\n",
       "    </tr>\n",
       "    <tr>\n",
       "      <th>abordagem_4</th>\n",
       "      <td>0.9476</td>\n",
       "      <td>0.6089</td>\n",
       "    </tr>\n",
       "    <tr>\n",
       "      <th>abordagem_5</th>\n",
       "      <td>0.8654</td>\n",
       "      <td>0.8187</td>\n",
       "    </tr>\n",
       "  </tbody>\n",
       "</table>\n",
       "</div>"
      ],
      "text/plain": [
       "             f1_train  f1_val\n",
       "abordagem_1    0.8822  0.8176\n",
       "abordagem_2    1.0000  0.8453\n",
       "abordagem_3    1.0000  0.8296\n",
       "abordagem_4    0.9476  0.6089\n",
       "abordagem_5    0.8654  0.8187"
      ]
     },
     "execution_count": 45,
     "metadata": {},
     "output_type": "execute_result"
    }
   ],
   "source": [
    "results_df = pd.DataFrame(results).T\n",
    "results_df.columns = ['f1_train', 'f1_val']\n",
    "results_df"
   ]
  },
  {
   "cell_type": "markdown",
   "id": "e47b6e1b-f85e-4324-b5c2-2f65f596140e",
   "metadata": {},
   "source": [
    "O modelo final escolhido foi a abordagem 5. Apesar da abordagem 2 e 3 possuirem uma melhor métrica no dataset de validação, por sua performance ter sido 1 no dataset de treino, indica a possibilidade de um overfit comprometendo a generalização do resultado para aplicações futuras."
   ]
  },
  {
   "cell_type": "code",
   "execution_count": 46,
   "id": "3967cec6-e866-4171-b9d5-00c5b0e7125c",
   "metadata": {},
   "outputs": [],
   "source": [
    "# Save classifier model\n",
    "final_model = {'name': 'product_category_classifier',\n",
    "               'version':1.0,\n",
    "               'model': pipeline_5}\n",
    "\n",
    "save_model(final_model, '../models/classifier.pkl')"
   ]
  },
  {
   "cell_type": "markdown",
   "id": "dab3f776-0cc3-4415-9622-f9d962e464e7",
   "metadata": {},
   "source": [
    "- Test set performance"
   ]
  },
  {
   "cell_type": "code",
   "execution_count": 47,
   "id": "d8184e53-8301-471f-855d-3a56ec484969",
   "metadata": {},
   "outputs": [
    {
     "data": {
      "text/plain": [
       "0.8156"
      ]
     },
     "execution_count": 47,
     "metadata": {},
     "output_type": "execute_result"
    }
   ],
   "source": [
    "pred_test = pipeline_5.predict(X_test)\n",
    "\n",
    "calc_mean_f1(y_test, pred_test)"
   ]
  },
  {
   "cell_type": "code",
   "execution_count": 48,
   "id": "402101f2-e59b-4eaa-b599-6127baff6166",
   "metadata": {},
   "outputs": [
    {
     "name": "stdout",
     "output_type": "stream",
     "text": [
      "                    precision    recall  f1-score   support\n",
      "\n",
      "              Bebê       0.83      0.79      0.81       833\n",
      "Bijuterias e Jóias       0.84      0.88      0.86       172\n",
      "         Decoração       0.81      0.86      0.83      1249\n",
      "     Lembrancinhas       0.92      0.82      0.86      2688\n",
      "            Outros       0.46      0.78      0.58       208\n",
      "       Papel e Cia       0.65      0.78      0.71       627\n",
      "\n",
      "          accuracy                           0.82      5777\n",
      "         macro avg       0.75      0.82      0.78      5777\n",
      "      weighted avg       0.84      0.82      0.82      5777\n",
      "\n"
     ]
    }
   ],
   "source": [
    "print(classification_report(y_test, pred_test, target_names=classes))"
   ]
  },
  {
   "cell_type": "markdown",
   "id": "cd77d5d6-8d29-48b4-b2a4-e29150370399",
   "metadata": {},
   "source": [
    "O resultado geral entre o dataset de validação e teste são bem próximos utilizando o modelo final. Isso indica que o modelo está generalizando bem o seu comportamento. Porém, ouve uma troca de performance entre as classes."
   ]
  },
  {
   "cell_type": "markdown",
   "id": "99832e1c-fa9a-42f8-9c1f-ec9b1f7d0ef0",
   "metadata": {},
   "source": [
    "## Conclusão"
   ]
  },
  {
   "cell_type": "markdown",
   "id": "5e0ea988-b65a-4fc4-9ad7-978760fce028",
   "metadata": {},
   "source": [
    "O modelo final possui uma performance razoável visto que nem foram testados seu espaço de hiperparâmetros. A informação de quais tipos de produtos o vendedor já vende é interessante, porém ela atrapalha o aprendizado das técnicas de machine learning. Talvez ela possa ser utilizada como uma heurística combinada com a previsão do modelo para impulsionar a performance. E é necessário mais variáveis que discriminem a classe 'Papel e Cia' para alavancar a performance geral.\n",
    "\n",
    "Como trabalhos futuros de hipóteses que não foram testas nesse estudo:\n",
    "- Realizar o balanceamento das classes utilizando técnicas de subsample e oversample\n",
    "- Treinar uma rede neural com cada neurônio de output a probabilidade de uma classe, podendo testar diferentes estruturas para tratar as features de texto e utilizando uma camada de softmax para o output das classes\n",
    "- Utilizar informação de texto da coluna 'query' para enriquecer os encoders de texto das features de 'title' e 'concatenated_tags'."
   ]
  }
 ],
 "metadata": {
  "kernelspec": {
   "display_name": "elo7",
   "language": "python",
   "name": "elo7"
  },
  "language_info": {
   "codemirror_mode": {
    "name": "ipython",
    "version": 3
   },
   "file_extension": ".py",
   "mimetype": "text/x-python",
   "name": "python",
   "nbconvert_exporter": "python",
   "pygments_lexer": "ipython3",
   "version": "3.8.12"
  }
 },
 "nbformat": 4,
 "nbformat_minor": 5
}
