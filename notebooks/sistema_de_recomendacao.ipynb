{
 "cells": [
  {
   "cell_type": "markdown",
   "id": "e230ab08-bd96-4267-adc1-7159193f02df",
   "metadata": {},
   "source": [
    "# Sistema de Recomendação\n",
    "Nesse notebook foi desenvolvido um sistema de recomendação baseado em similaridade. Ele recebe um título de qualquer produto, classifica-o e recomenda 10 produtos similares. O foco na parte de classificação será classificar produtos que não estão no dataset, pois caso contrário seria possível utilizar o classificador já desenvolvido no outro notebook. A avaliação desse sistema será feita de forma qualitativa.\n",
    "\n",
    "O dataset utilizado pode ser encontrado nesse [link](https://elo7-datasets.s3.amazonaws.com/data_scientist_position/elo7_recruitment_dataset.csv), e ele foi baixado na data 28/03/2022. "
   ]
  },
  {
   "cell_type": "code",
   "execution_count": 1,
   "id": "2aa027f5-fb83-42de-be33-d3d0b79b5664",
   "metadata": {},
   "outputs": [],
   "source": [
    "import numpy as np\n",
    "import pandas as pd\n",
    "\n",
    "from sklearn.model_selection import train_test_split\n",
    "from sklearn.pipeline import Pipeline, FeatureUnion\n",
    "from sklearn.base import BaseEstimator\n",
    "from sklearn.feature_extraction.text import CountVectorizer, TfidfTransformer\n",
    "\n",
    "from utils.estimators import FilterColumns\n",
    "from utils.utils import tokenize, save_model\n",
    "\n",
    "RANDOM_SEED = 0"
   ]
  },
  {
   "cell_type": "code",
   "execution_count": 2,
   "id": "3702a51d-26a4-4b91-88a4-0cd7c0a68abb",
   "metadata": {},
   "outputs": [],
   "source": [
    "df = pd.read_csv('../data/elo7_recruitment_dataset.csv')"
   ]
  },
  {
   "cell_type": "code",
   "execution_count": 3,
   "id": "b8954920-94c4-4c4c-bc10-40d069a4cbee",
   "metadata": {},
   "outputs": [
    {
     "data": {
      "text/html": [
       "<div>\n",
       "<style scoped>\n",
       "    .dataframe tbody tr th:only-of-type {\n",
       "        vertical-align: middle;\n",
       "    }\n",
       "\n",
       "    .dataframe tbody tr th {\n",
       "        vertical-align: top;\n",
       "    }\n",
       "\n",
       "    .dataframe thead th {\n",
       "        text-align: right;\n",
       "    }\n",
       "</style>\n",
       "<table border=\"1\" class=\"dataframe\">\n",
       "  <thead>\n",
       "    <tr style=\"text-align: right;\">\n",
       "      <th></th>\n",
       "      <th>product_id</th>\n",
       "      <th>seller_id</th>\n",
       "      <th>query</th>\n",
       "      <th>search_page</th>\n",
       "      <th>position</th>\n",
       "      <th>title</th>\n",
       "      <th>concatenated_tags</th>\n",
       "      <th>creation_date</th>\n",
       "      <th>price</th>\n",
       "      <th>weight</th>\n",
       "      <th>express_delivery</th>\n",
       "      <th>minimum_quantity</th>\n",
       "      <th>view_counts</th>\n",
       "      <th>order_counts</th>\n",
       "      <th>category</th>\n",
       "    </tr>\n",
       "  </thead>\n",
       "  <tbody>\n",
       "    <tr>\n",
       "      <th>0</th>\n",
       "      <td>11394449</td>\n",
       "      <td>8324141</td>\n",
       "      <td>espirito santo</td>\n",
       "      <td>2</td>\n",
       "      <td>6</td>\n",
       "      <td>Mandala Espírito Santo</td>\n",
       "      <td>mandala mdf</td>\n",
       "      <td>2015-11-14 19:42:12</td>\n",
       "      <td>171.890000</td>\n",
       "      <td>1200.0</td>\n",
       "      <td>1</td>\n",
       "      <td>4</td>\n",
       "      <td>244</td>\n",
       "      <td>NaN</td>\n",
       "      <td>Decoração</td>\n",
       "    </tr>\n",
       "    <tr>\n",
       "      <th>1</th>\n",
       "      <td>15534262</td>\n",
       "      <td>6939286</td>\n",
       "      <td>cartao de visita</td>\n",
       "      <td>2</td>\n",
       "      <td>0</td>\n",
       "      <td>Cartão de Visita</td>\n",
       "      <td>cartao visita panfletos tag adesivos copos lon...</td>\n",
       "      <td>2018-04-04 20:55:07</td>\n",
       "      <td>77.670000</td>\n",
       "      <td>8.0</td>\n",
       "      <td>1</td>\n",
       "      <td>5</td>\n",
       "      <td>124</td>\n",
       "      <td>NaN</td>\n",
       "      <td>Papel e Cia</td>\n",
       "    </tr>\n",
       "    <tr>\n",
       "      <th>2</th>\n",
       "      <td>16153119</td>\n",
       "      <td>9835835</td>\n",
       "      <td>expositor de esmaltes</td>\n",
       "      <td>1</td>\n",
       "      <td>38</td>\n",
       "      <td>Organizador expositor p/ 70 esmaltes</td>\n",
       "      <td>expositor</td>\n",
       "      <td>2018-10-13 20:57:07</td>\n",
       "      <td>73.920006</td>\n",
       "      <td>2709.0</td>\n",
       "      <td>1</td>\n",
       "      <td>1</td>\n",
       "      <td>59</td>\n",
       "      <td>NaN</td>\n",
       "      <td>Outros</td>\n",
       "    </tr>\n",
       "    <tr>\n",
       "      <th>3</th>\n",
       "      <td>15877252</td>\n",
       "      <td>8071206</td>\n",
       "      <td>medidas lencol para berco americano</td>\n",
       "      <td>1</td>\n",
       "      <td>6</td>\n",
       "      <td>Jogo de Lençol Berço Estampado</td>\n",
       "      <td>t jogo lencol menino lencol berco</td>\n",
       "      <td>2017-02-27 13:26:03</td>\n",
       "      <td>118.770004</td>\n",
       "      <td>0.0</td>\n",
       "      <td>1</td>\n",
       "      <td>1</td>\n",
       "      <td>180</td>\n",
       "      <td>1.0</td>\n",
       "      <td>Bebê</td>\n",
       "    </tr>\n",
       "    <tr>\n",
       "      <th>4</th>\n",
       "      <td>15917108</td>\n",
       "      <td>7200773</td>\n",
       "      <td>adesivo box banheiro</td>\n",
       "      <td>3</td>\n",
       "      <td>38</td>\n",
       "      <td>ADESIVO BOX DE BANHEIRO</td>\n",
       "      <td>adesivo box banheiro</td>\n",
       "      <td>2017-05-09 13:18:38</td>\n",
       "      <td>191.810000</td>\n",
       "      <td>507.0</td>\n",
       "      <td>1</td>\n",
       "      <td>6</td>\n",
       "      <td>34</td>\n",
       "      <td>NaN</td>\n",
       "      <td>Decoração</td>\n",
       "    </tr>\n",
       "  </tbody>\n",
       "</table>\n",
       "</div>"
      ],
      "text/plain": [
       "   product_id  seller_id                                query  search_page  \\\n",
       "0    11394449    8324141                       espirito santo            2   \n",
       "1    15534262    6939286                     cartao de visita            2   \n",
       "2    16153119    9835835                expositor de esmaltes            1   \n",
       "3    15877252    8071206  medidas lencol para berco americano            1   \n",
       "4    15917108    7200773                 adesivo box banheiro            3   \n",
       "\n",
       "   position                                 title  \\\n",
       "0         6                Mandala Espírito Santo   \n",
       "1         0                      Cartão de Visita   \n",
       "2        38  Organizador expositor p/ 70 esmaltes   \n",
       "3         6        Jogo de Lençol Berço Estampado   \n",
       "4        38               ADESIVO BOX DE BANHEIRO   \n",
       "\n",
       "                                   concatenated_tags        creation_date  \\\n",
       "0                                        mandala mdf  2015-11-14 19:42:12   \n",
       "1  cartao visita panfletos tag adesivos copos lon...  2018-04-04 20:55:07   \n",
       "2                                          expositor  2018-10-13 20:57:07   \n",
       "3                  t jogo lencol menino lencol berco  2017-02-27 13:26:03   \n",
       "4                               adesivo box banheiro  2017-05-09 13:18:38   \n",
       "\n",
       "        price  weight  express_delivery  minimum_quantity  view_counts  \\\n",
       "0  171.890000  1200.0                 1                 4          244   \n",
       "1   77.670000     8.0                 1                 5          124   \n",
       "2   73.920006  2709.0                 1                 1           59   \n",
       "3  118.770004     0.0                 1                 1          180   \n",
       "4  191.810000   507.0                 1                 6           34   \n",
       "\n",
       "   order_counts     category  \n",
       "0           NaN    Decoração  \n",
       "1           NaN  Papel e Cia  \n",
       "2           NaN       Outros  \n",
       "3           1.0         Bebê  \n",
       "4           NaN    Decoração  "
      ]
     },
     "execution_count": 3,
     "metadata": {},
     "output_type": "execute_result"
    }
   ],
   "source": [
    "df.head()"
   ]
  },
  {
   "cell_type": "markdown",
   "id": "b98ec1e5-d200-4aaa-87bc-3412561ff527",
   "metadata": {},
   "source": [
    "Como nesse contexto apenas temos o 'title' do produto não cadastrado na base como input, foram utilizadas abordagens de similaride de texto utilizando o cálculo dos tf-idf e o cosseno entre vetores."
   ]
  },
  {
   "cell_type": "code",
   "execution_count": 4,
   "id": "8775a4db-818c-498f-96fa-6f597c5a92b2",
   "metadata": {},
   "outputs": [],
   "source": [
    "vars = ['product_id', 'title', 'view_counts', 'order_counts', 'query']\n",
    "target = ['category']"
   ]
  },
  {
   "cell_type": "code",
   "execution_count": 5,
   "id": "323e7ad9-a854-4f3b-9346-a2c253891273",
   "metadata": {},
   "outputs": [],
   "source": [
    "X, y = df[vars], df[target]"
   ]
  },
  {
   "cell_type": "code",
   "execution_count": 6,
   "id": "a3d8aaa0-dfea-4a09-a780-513832184b53",
   "metadata": {},
   "outputs": [],
   "source": [
    "tests = ['abajur', 'urso de pelucia', 'kit barba', 'anel', 'envelope']\n",
    "\n",
    "def calc_tests(tests, model):\n",
    "    ''' Calculate results for input tests\n",
    "    Params:\n",
    "    tests(list) - List of titles\n",
    "    model(Estimator) - Model fit to test\n",
    "    '''\n",
    "    \n",
    "    for idx, test in enumerate(tests):\n",
    "        test_df = pd.DataFrame({'title': [test]})\n",
    "        result = model.predict(test_df)\n",
    "        \n",
    "        print(f'Teste {idx}: {test}')\n",
    "        \n",
    "        for key, value in result.items():\n",
    "                print(value)\n",
    "        print()"
   ]
  },
  {
   "cell_type": "markdown",
   "id": "bef109e0-5bca-4edd-9603-cbbdebeb2f8a",
   "metadata": {},
   "source": [
    "## Abordagem 1"
   ]
  },
  {
   "cell_type": "markdown",
   "id": "31d833e6-14b9-4414-96de-eb54b08617e9",
   "metadata": {},
   "source": [
    "Na primeira abordagem para realizar a classificação do produto, foi utilizada uma estratégia parecida com o algoritmo KNN. Primeiro foi calculado os tf-idfs de todos os títulos de produto da base, depois com esse encoder treinado foi calculado o tf-idf para novo título. Após isso foi realizada o produto escalar entre os dois resultados para computar a similaridade entre o novo título e todos os títulos existentes. Então utiliza-se k produtos mais próximos do input, onde k nesse caso é 11 escolhido arbitrariamente apenas tomando cuidado do número ser ímpar para não ter empate, e a categoria majoritária entre esse grupo será a atribuída para o novo título.\n",
    "\n",
    "Para o sistema de recomendação, foram recomendados os produtos mais clicados e mais vendidos da categoria do título do input."
   ]
  },
  {
   "cell_type": "code",
   "execution_count": 7,
   "id": "fc6a644a-9040-4824-9456-7774b2cb99c9",
   "metadata": {},
   "outputs": [],
   "source": [
    "class RecommendSystem_1(BaseEstimator):\n",
    "    ''' \n",
    "    '''    \n",
    "    def fit(self, X, y=None):\n",
    "        \n",
    "        self.products = X.join(y).copy()\n",
    "        self.products.reset_index(drop=True, inplace=True)\n",
    "        \n",
    "        self.products = self.products.groupby(['product_id', 'title', 'category'])[\n",
    "            ['view_counts', 'order_counts']].max().reset_index()\n",
    "        \n",
    "        self.pipe_tfidf = Pipeline([\n",
    "            ('filter', FilterColumns('title')),\n",
    "            ('vect', CountVectorizer(tokenizer=tokenize, max_features=1000)),\n",
    "            ('tfidf', TfidfTransformer())     \n",
    "        ])\n",
    "        \n",
    "        self.tfidf_matrix = self.pipe_tfidf.fit_transform(self.products, y)\n",
    "        \n",
    "        return self\n",
    "    \n",
    "    def predict(self, X):\n",
    "        # X is a series of titles\n",
    "        title = X.copy()\n",
    "        tfidf_string = self.pipe_tfidf.transform(title)\n",
    "        tfidf_string = tfidf_string.todense()\n",
    "        \n",
    "        dense_tfidf_matrix = self.tfidf_matrix.todense()\n",
    "        \n",
    "        cos_similarity = np.dot(dense_tfidf_matrix, tfidf_string.T)\n",
    "        \n",
    "        cos_similarity = pd.DataFrame(cos_similarity,\n",
    "                                      columns=['similarity'])\n",
    "        \n",
    "        self.sim_matrix = self.products.join(cos_similarity)\n",
    "        \n",
    "        # Predict category\n",
    "        k = 11\n",
    "        similar_titles_matrix = self.sim_matrix.sort_values(by='similarity', ascending=False)\n",
    "        category = similar_titles_matrix.head(k).category.mode()[0]\n",
    "        \n",
    "        # Recommend top 10\n",
    "        top_10 = self.sim_matrix.query(f\"category=='{category}' & similarity!=1\")\n",
    "        top_10 = top_10.sort_values(['view_counts', 'order_counts'],\n",
    "                           ascending=[False, False])\n",
    "        \n",
    "        top_10 = top_10.head(10)[['product_id', 'title']]\n",
    "        \n",
    "        top_10 = top_10.product_id.astype('str') + ','+ top_10.title\n",
    "        \n",
    "        result = {'category': category}\n",
    "        \n",
    "        for idx, product in enumerate(top_10):\n",
    "            result['product_' + str(idx)] = product\n",
    "                  \n",
    "        return result"
   ]
  },
  {
   "cell_type": "code",
   "execution_count": 8,
   "id": "f54e3e36-6193-49c6-9f6b-bdf868c479e1",
   "metadata": {},
   "outputs": [],
   "source": [
    "model_1 = RecommendSystem_1()"
   ]
  },
  {
   "cell_type": "markdown",
   "id": "2bfbbf80-2af6-419b-b9b7-461083d106cb",
   "metadata": {},
   "source": [
    "- Fit"
   ]
  },
  {
   "cell_type": "code",
   "execution_count": 9,
   "id": "9abd1610-57bf-4265-a17c-a0554d90a558",
   "metadata": {},
   "outputs": [
    {
     "data": {
      "text/plain": [
       "RecommendSystem_1()"
      ]
     },
     "execution_count": 9,
     "metadata": {},
     "output_type": "execute_result"
    }
   ],
   "source": [
    "model_1.fit(X, y)"
   ]
  },
  {
   "cell_type": "code",
   "execution_count": 10,
   "id": "9297f3c8-0636-4d92-8349-4f991e16a155",
   "metadata": {},
   "outputs": [
    {
     "name": "stdout",
     "output_type": "stream",
     "text": [
      "Teste 0: abajur\n",
      "Decoração\n",
      "15722213,Tapete simples em croche\n",
      "495241,Poster A4 Salmo 91\n",
      "2867175,Mesa Espelhada - Mesa de Centro - Promoção\n",
      "2623238,Espelhos Decorativos em Acrílico 7 Peças | SQ07P\n",
      "13917701,Presente dia dos Namorados Azulejo com Foto\n",
      "12564194,Espelho Decorativo Acrílico Folhas\n",
      "13818512,Mesa Cabeceira Criado Mudo em S\n",
      "6832055,Jogo de banheiro Crochê\n",
      "12584017,Pelego Fake Branco\n",
      "611144,Presente aniversário de namoro casamento dia dos namorados\n",
      "\n",
      "Teste 1: urso de pelucia\n",
      "Bebê\n",
      "6977307,Bolsa Maternidade Rose kit 4 peças mala bebe\n",
      "9836291,kit bolsa mala bebe maternidade personalizada\n",
      "9730357,Saída Maternidade Menina Anny 5 peças Salmão\n",
      "13672802,kits higiene mdf\n",
      "9739668,Kit Higiene Bebê Passa Fita 8 Pçs Mdf Cru Desmontado +Brinde\n",
      "4755599,bolsa mala bebe de maternidade personalizada azul\n",
      "12453653,Lembrancinha Chá De Bebe (par)\n",
      "10208924,Nome Em MDF\n",
      "16278919,ninho redutor de berço nome do bebe bordado\n",
      "15127043,Caderneta de Vacinação 2019\n",
      "\n",
      "Teste 2: kit barba\n",
      "Lembrancinhas\n",
      "8271183,Mini suculentas - PROMOÇÃO\n",
      "6488184,Mini suculentas com rótulos e toppers personalizados\n",
      "15994516,Copos Twister 300ml - Personalizados\n",
      "8515307,Lembrancinha De Maternidade Mini Aromatizador\n",
      "1523274,Caneca de Chopp Personalizada Boteco\n",
      "2504030,Mini suculentas - PROMOÇÃO KIT a partir de 100 UNIDADES\n",
      "5872725,Kit 100 Canecas 300ml Personalizadas BH\n",
      "161560,Aromatizador Mini Difusor 35 ml Lembrancinha\n",
      "16390286,Caneca Personalizada - Lembrancinha Personalizada\n",
      "12165962,Kit 100 Taças 180ml BH Personalizada\n",
      "\n",
      "Teste 3: anel\n",
      "Bijuterias e Jóias\n",
      "8733961,Par Aliança Texturizada Compromisso Namoro em PRATA 950\n",
      "9309456,Aliança Namoro\n",
      "1499388,Aliança De Compromisso Em Aço Inox\n",
      "2278293,Par De Alianças De Noivado E Casamento banhada a ouro\n",
      "10378129,Colar Best Friends Folheado 4 Partes.\n",
      "2952158,Par de Alianças Prata 950 4mm Compromisso E Namoro\n",
      "3002475,Pulseira para Madrinha\n",
      "16229992,Par Alianças Moedas Antigas + Anel\n",
      "14133348,Alianças Moedas Antiga Casamento Par Cor Ouro + anel\n",
      "16242934,anel de moeda antiga solitário\n",
      "\n",
      "Teste 4: envelope\n",
      "Papel e Cia\n",
      "14728971,Caixa namorados\n",
      "3298229,Fotos Estilo Polaroid - Com suas imagens (Tamanho Padrão)\n",
      "13014683,KIT 07 CARIMBOS PROFESSORES ATENÇÃO PEDAGÓGICA ASSINATURAS\n",
      "5001726,Diário de Couro - MARROM (FRETE GRÁTIS)\n",
      "7939916,Carimbo em Madeira para Artesanato (área de até 16 cm²) M016\n",
      "7466364,1.000 Tags Personalizadas Etiquetas para Roupas, Brinde\n",
      "6563981,Álbum de figurinhas personalizados\n",
      "5449226,1.000 Tags Personalizadas Etiquetas Para Roupas E Brindes\n",
      "12191888,Planner Permanente Personalizado Colorido\n",
      "1071750,500 Etiquetas adesivas Personalizada com seu logo 3cm x 3cm\n",
      "\n"
     ]
    }
   ],
   "source": [
    "calc_tests(tests, model_1)"
   ]
  },
  {
   "cell_type": "markdown",
   "id": "47efd877-8769-49be-b731-254ae4376302",
   "metadata": {},
   "source": [
    "O classificador está funcionando bem nos exemplos testados, apesar que essa abordagem é bem custosa em quesito de processamento. Para a recomendação, recomendar os mais populares da mesma categoria está demonstrando muito aleatório."
   ]
  },
  {
   "cell_type": "markdown",
   "id": "a06f7170-cf5c-40c7-9b82-e3b52c84196a",
   "metadata": {},
   "source": [
    "## Abordagem 2"
   ]
  },
  {
   "cell_type": "markdown",
   "id": "f1770c60-54a1-4c73-9a62-1c8531b0fe53",
   "metadata": {},
   "source": [
    "Na abordagem 2 foi mantido a mesma estratégia para o classificador, porém para o sistema de recomendação foram recomendados os 10 produtos com o título mais próximo do título do input utilizando novamento o td-idf e o cosseno."
   ]
  },
  {
   "cell_type": "code",
   "execution_count": 11,
   "id": "5fd9be97-0e6a-49a7-be3d-7c20f88f2bc3",
   "metadata": {},
   "outputs": [],
   "source": [
    "class RecommendSystem_2(BaseEstimator):\n",
    "    \n",
    "    def fit(self, X, y=None):\n",
    "\n",
    "        # Store products info\n",
    "        self.products = X.join(y).copy()\n",
    "        self.products.reset_index(drop=True, inplace=True)\n",
    "\n",
    "        product_cols = ['product_id', 'title', 'category']\n",
    "        self.products = self.products.groupby(product_cols)[\n",
    "            ['view_counts', 'order_counts']].max().reset_index()\n",
    "        \n",
    "        self.pipe_tfidf = Pipeline([\n",
    "            ('filter', FilterColumns('title')),\n",
    "            ('vect', CountVectorizer(tokenizer=tokenize, max_features=1000)),\n",
    "            ('tfidf', TfidfTransformer())     \n",
    "        ])\n",
    "\n",
    "        # Fit tf-idf title transformer\n",
    "        self.tfidf_matrix = self.pipe_tfidf.fit_transform(self.products, y)\n",
    "        \n",
    "        return self\n",
    "    \n",
    "    def predict(self, X):\n",
    "        title = X.copy()\n",
    "        \n",
    "        # Calculate tf-idf for title input\n",
    "        tfidf_string = self.pipe_tfidf.transform(title)\n",
    "        tfidf_string = tfidf_string.todense()\n",
    "\n",
    "        # Unpack title tf-idf matrix\n",
    "        dense_tfidf_matrix = self.tfidf_matrix.todense()\n",
    "\n",
    "        # Calculate cossine of title input vector and titles matrix\n",
    "        cos_similarity = np.dot(dense_tfidf_matrix, tfidf_string.T)\n",
    "        cos_similarity = pd.DataFrame(cos_similarity,\n",
    "                                      columns=['similarity'])\n",
    "        \n",
    "        self.sim_matrix = self.products.join(cos_similarity)\n",
    "        \n",
    "        # Predict category\n",
    "        k = 11\n",
    "        similar_titles_matrix = self.sim_matrix.sort_values(by='similarity',\n",
    "                                                            ascending=False)\n",
    "        \n",
    "        # Get majoritary class in selected group\n",
    "        category = similar_titles_matrix.head(k).category.mode()[0]\n",
    "        \n",
    "        # Recommend top 10\n",
    "        top_10 = similar_titles_matrix.query(\"similarity!=1\")\n",
    "        top_10 = top_10.head(10)[['product_id', 'title']]\n",
    "\n",
    "        # Pack results in a dict\n",
    "        top_10 = top_10.product_id.astype('str') + ','+ top_10.title\n",
    "\n",
    "        result = {'category': category}\n",
    "        for idx, product in enumerate(top_10):\n",
    "            result['product_' + str(idx)] = product\n",
    "                  \n",
    "        return result"
   ]
  },
  {
   "cell_type": "code",
   "execution_count": 12,
   "id": "1656032c-f154-4fe5-9d8a-98284f64e634",
   "metadata": {},
   "outputs": [],
   "source": [
    "model_2 = RecommendSystem_2()"
   ]
  },
  {
   "cell_type": "markdown",
   "id": "1c64b4c1-bdff-436f-9cd0-a02094e88bdd",
   "metadata": {},
   "source": [
    "- Fit"
   ]
  },
  {
   "cell_type": "code",
   "execution_count": 13,
   "id": "865c403c-a1f5-485a-91b9-baf50b9edeea",
   "metadata": {},
   "outputs": [
    {
     "data": {
      "text/plain": [
       "RecommendSystem_2()"
      ]
     },
     "execution_count": 13,
     "metadata": {},
     "output_type": "execute_result"
    }
   ],
   "source": [
    "model_2.fit(X, y)"
   ]
  },
  {
   "cell_type": "code",
   "execution_count": 14,
   "id": "9de21ef1-e30d-4d2b-bacc-7ea8e3f0f481",
   "metadata": {},
   "outputs": [
    {
     "name": "stdout",
     "output_type": "stream",
     "text": [
      "Teste 0: abajur\n",
      "Decoração\n",
      "8907076,Abajur de Laço Provençal - Abajur Menina- Abajur Mesa\n",
      "1014210,Abajur MDF\n",
      "8145510,Abajur Infantil\n",
      "7058985,Abajur Infantil\n",
      "1147680,Abajur infantil\n",
      "2056028,Abajur Encanto\n",
      "7494025,Luminária Abajur Gibi - Liga da Justiça\n",
      "5229134,Abajur Corujinha\n",
      "7544088,Abajur Twist\n",
      "15015021,Abajur elefantinha\n",
      "\n",
      "Teste 1: urso de pelucia\n",
      "Bebê\n",
      "14916286,Ursinhos de pelucia\n",
      "3921315,Ursinhos de pelucia\n",
      "4335481,Urso de Pelúcia Apaixonado 25cm\n",
      "6443874,URSO DE PELUCIA\n",
      "5391249,Ursinho de pelúcia\n",
      "2024400,urso de pelucia\n",
      "7340520,LEMBRANCINHA URSINHOS PELÚCIA-3 Cm\n",
      "7454682,Ursinho de Pelúcia 9 cm personalizado\n",
      "12621205,Mini Ursinho de pelúcia\n",
      "563773,MINI URSINHO PELÚCIA CHAVEIRINHO-10 CMTS\n",
      "\n",
      "Teste 2: kit barba\n",
      "Lembrancinhas\n",
      "9433066,Kit barba\n",
      "6267864,Kit de Barbear\n",
      "14050247,Kit barba\n",
      "14128221,KIT BARBA\n",
      "11768258,Kit de Barba\n",
      "8320894,Kit Barba\n",
      "10626864,Lembrancinha Kit de Barbear\n",
      "10158126,Barbante Trento\n",
      "7020996,Barbante trento\n",
      "6020100,Shampoo de barba\n",
      "\n",
      "Teste 3: anel\n",
      "Bijuterias e Jóias\n",
      "15311943,Anel de Falange Rosi\n",
      "15147459,Anel Signo Áries em Prata 925\n",
      "14308022,Anel Claddagh em Prata\n",
      "6936841,Anel Infinito em Prata\n",
      "235944,Anel em prata maleável\n",
      "7865498,Anel Prata Escrava\n",
      "10807049,ANEL DE FORMATURA\n",
      "6089505,ANEL DE FORMATURA\n",
      "8194874,Anel do Humor Trevo Coração\n",
      "10039514,Anel de Letra\n",
      "\n",
      "Teste 4: envelope\n",
      "Papel e Cia\n",
      "12480118,Envelope Maternidade\n",
      "14920968,Envelope para CD Lembrancinha Personalizado\n",
      "3148810,Envelopamento de Geladeira Golfinho 0003\n",
      "239115,Envelope luva tamanho 15x21\n",
      "3867955,CONVITE ANIVERSÁRIO COM ENVELOPE\n",
      "9385070,Envelope Pink - 7 x 10\n",
      "16300823,Capa de almofada em crochê envelope\n",
      "8860742,Envelope Azul Marinho - 7 x 10\n",
      "2568456,Envelope janela 15,5x21,5cm\n",
      "1734757,Envelope estilo String Tie Kraft\n",
      "\n"
     ]
    }
   ],
   "source": [
    "calc_tests(tests, model_2)"
   ]
  },
  {
   "cell_type": "markdown",
   "id": "2cbff921-4c92-48a4-bafa-58f524a40c36",
   "metadata": {},
   "source": [
    "Nessa abordagem a recomendação faz muito sentido com o produto do input, mas ela não possuí variedade e os produtos recomendados são muito parecidos."
   ]
  },
  {
   "cell_type": "markdown",
   "id": "d665522b-5d84-4834-a1b2-27e61b15b2bd",
   "metadata": {},
   "source": [
    "## Abordagem 3"
   ]
  },
  {
   "cell_type": "markdown",
   "id": "97b98014-9cc8-45a5-93d2-07e465caa56f",
   "metadata": {},
   "source": [
    "Manter novamente o classificador, porém para a recomendação usar o tf-idf do título de input para achar o produto mais parecido com ele. Com base na query que clicou naquele produto, achar as queries mais parecidas com aquela query, usando um outro vetor tf-idf, e recomendar os produtos clicados por aquelas queries. Nessa abordagem então são recomendados os produtos clicados com com consultas similares ao produto de input, essa estratégia visa recomendar produtos similares mas com uma variabilidade mais adequada."
   ]
  },
  {
   "cell_type": "code",
   "execution_count": 15,
   "id": "f8eeb817-d350-4d05-b42d-2ab27fd5fe55",
   "metadata": {},
   "outputs": [],
   "source": [
    "class RecommendSystem_3(BaseEstimator):\n",
    "    ''' \n",
    "    '''    \n",
    "    def fit(self, X, y=None):\n",
    "        \n",
    "        # Store queries info\n",
    "        self.queries = X[['product_id', 'title', 'query']].copy()\n",
    "        self.queries.reset_index(drop=True, inplace=True)\n",
    "        \n",
    "        # Store products info\n",
    "        self.products = X.join(y).copy()\n",
    "        self.products.reset_index(drop=True, inplace=True)\n",
    "        \n",
    "        product_cols = ['product_id', 'title', 'category']\n",
    "        self.products = self.products.groupby(product_cols).count()\n",
    "        self.products.reset_index(inplace=True)\n",
    "        \n",
    "        # Fit tf-idf title transformer\n",
    "        self.title_tfidf = Pipeline([\n",
    "            ('filter', FilterColumns('title')),\n",
    "            ('vect', CountVectorizer(tokenizer=tokenize, max_features=1000)),\n",
    "            ('tfidf', TfidfTransformer())     \n",
    "        ])\n",
    "        \n",
    "        # Store tf-idf product titles matrix\n",
    "        self.title_tfidf_matrix = self.title_tfidf.fit_transform(self.products, y)\n",
    "        \n",
    "        # Fit tf-idf query transformer\n",
    "        self.query_tfidf = Pipeline([\n",
    "            ('filter', FilterColumns('query')),\n",
    "            ('vect', CountVectorizer(tokenizer=tokenize, max_features=1000)),\n",
    "            ('tfidf', TfidfTransformer())     \n",
    "        ])\n",
    "        \n",
    "        # Store tf-idf queries matrix\n",
    "        self.query_tfidf_matrix = self.query_tfidf.fit_transform(self.queries, y)\n",
    "        \n",
    "        return self\n",
    "\n",
    "    def predict(self, X):\n",
    "        title = X.copy()\n",
    "        \n",
    "        # Calculate tf-idf for title input\n",
    "        tfidf_string = self.title_tfidf.transform(title)\n",
    "        tfidf_string = tfidf_string.todense()\n",
    "        \n",
    "        # Unpack title tf-idf matrix\n",
    "        title_tfidf_matrix = self.title_tfidf_matrix.todense()\n",
    "        \n",
    "        # Calculate cossine of title input vector and titles matrix\n",
    "        title_similarity = np.dot(title_tfidf_matrix, tfidf_string.T)\n",
    "        \n",
    "        title_similarity = pd.DataFrame(title_similarity,\n",
    "                                      columns=['similarity'])\n",
    "        \n",
    "        self.sim_matrix = self.products.join(title_similarity)\n",
    "        \n",
    "        # Predict category\n",
    "        k = 11\n",
    "        similar_title_matrix = self.sim_matrix.sort_values(by='similarity', ascending=False)\n",
    "        \n",
    "        category = similar_title_matrix.head(k).category.mode()[0]\n",
    "        \n",
    "        # Recommend top 10\n",
    "        \n",
    "        # Get most similar product with title\n",
    "        product_id = similar_title_matrix.product_id.head(1).values[0]\n",
    "        \n",
    "        # Get a random query that was used to find the product\n",
    "        self.similar_query = self.queries.query(f'product_id=={product_id}').head(1)\n",
    "        \n",
    "        # Calculate tf-idf vector of this query\n",
    "        similar_query = self.query_tfidf.transform(self.similar_query[['query']])\n",
    "        similar_query = similar_query.todense()\n",
    "        \n",
    "        # Unpack query tf-idf matrix\n",
    "        query_tfidf_matrix = self.query_tfidf_matrix.todense()\n",
    "        \n",
    "        # Calculate cossine of title input vector and query matrix\n",
    "        query_similarity = np.dot(query_tfidf_matrix, similar_query.T)\n",
    "        query_similarity = pd.DataFrame(query_similarity, columns=['similarity'])\n",
    "        \n",
    "        query_similarity = self.queries.join(query_similarity)\n",
    "        query_similarity.sort_values(by=['similarity'], ascending=False, inplace=True)\n",
    "        \n",
    "        # Get top 10 similar queries excluding the exact one\n",
    "        top_10 = query_similarity[round(query_similarity.similarity, 2) != 1][['product_id', 'title']].head(10)\n",
    "        \n",
    "        # Pack results in a dict\n",
    "        top_10 = top_10.product_id.astype('str') + ','+ top_10.title\n",
    "        \n",
    "        result = {'category': category}\n",
    "        \n",
    "        for idx, product in enumerate(top_10):\n",
    "            result['product_' + str(idx)] = product\n",
    "            \n",
    "        return result"
   ]
  },
  {
   "cell_type": "code",
   "execution_count": 16,
   "id": "25e9df73-4507-40be-be1f-c259d27c4fe6",
   "metadata": {},
   "outputs": [],
   "source": [
    "model_3 = RecommendSystem_3()"
   ]
  },
  {
   "cell_type": "markdown",
   "id": "e08866e1-99a0-4b42-8748-9867709350b9",
   "metadata": {},
   "source": [
    "- Fit"
   ]
  },
  {
   "cell_type": "code",
   "execution_count": 17,
   "id": "230352aa-9144-4c8f-afb7-11b608994364",
   "metadata": {},
   "outputs": [
    {
     "data": {
      "text/plain": [
       "RecommendSystem_3()"
      ]
     },
     "execution_count": 17,
     "metadata": {},
     "output_type": "execute_result"
    }
   ],
   "source": [
    "model_3.fit(X, y)"
   ]
  },
  {
   "cell_type": "code",
   "execution_count": 18,
   "id": "e9a50d31-9363-465d-94d2-b6fd02c074a2",
   "metadata": {},
   "outputs": [
    {
     "name": "stdout",
     "output_type": "stream",
     "text": [
      "Teste 0: abajur\n",
      "Decoração\n",
      "8907076,Abajur de Laço Provençal - Abajur Menina- Abajur Mesa\n",
      "7058985,Abajur Infantil\n",
      "8145510,Abajur Infantil\n",
      "1147680,Abajur infantil\n",
      "9694189,Abajur Infantil Coroa / príncipe\n",
      "2728385,Abajour mdf\n",
      "16099604,Abajur MDF Urso e Ramo Luxo\n",
      "6316182,Abajur MDF Safari Feltro mod. 1\n",
      "11836315,Abajour mdf\n",
      "7697949,Abajour mdf\n",
      "\n",
      "Teste 1: urso de pelucia\n",
      "Bebê\n",
      "12621205,Mini Ursinho de pelúcia\n",
      "7340520,LEMBRANCINHA URSINHOS PELÚCIA-3 Cm\n",
      "13325068,Chaveiro mini ursinho pelúcia-6 cmts\n",
      "2784076,MINI URSINHOS DE PELÚCIA C COROA E LACINHO\n",
      "5497840,PELÚCIA CHAVEIRO-MINI URSINHO\n",
      "7454682,Ursinho de Pelúcia 9 cm personalizado\n",
      "563773,MINI URSINHO PELÚCIA CHAVEIRINHO-10 CMTS\n",
      "3569024,Pelúcias de Safári.\n",
      "9608343,coelhinhos de pelúcia\n",
      "10411706,Ovelha de Pelucia\n",
      "\n",
      "Teste 2: kit barba\n",
      "Lembrancinhas\n",
      "8245994,Kit 10 unidades barbante euroroma\n",
      "16524741,Barbante EuroRoma pink fio 6\n",
      "14774354,Jogo de banheiro em barbante\n",
      "12070350,jogo de banheiro de barbante\n",
      "11844405,tapete de crochê Elos em barbante\n",
      "11604326,Barbante Fial Cores 700g Fio6\n",
      "8081925,Barbante cru EuroRoma fio 8\n",
      "8843164,Tapete em barbante - flores\n",
      "2296328,Tapete de barbante\n",
      "5031615,TAPETE DE BARBANTE\n",
      "\n",
      "Teste 3: anel\n",
      "Bijuterias e Jóias\n",
      "13197341,Anel de Formatura Masculino em Prata - Todos Cursos\n",
      "3918363,Anel Formatura em OURO 18K\n",
      "13767492,Anel de Formatura Masculino em Prata - Todos Cursos\n",
      "10807049,ANEL DE FORMATURA\n",
      "6089505,ANEL DE FORMATURA\n",
      "15183269,ANEL FORMATURA EM PRATA 950 INFANTIL ABC\n",
      "7205239,Anel Masculino Pedra Bali Especial (l9,1) Prata 925\n",
      "10615059,Anel Templário Quadrado Ônix Natural Prata 925\n",
      "11486070,Anel Black e Rubi em aço inoxidável 316l\n",
      "5326130,Anel NSra Aparecida masculino\n",
      "\n",
      "Teste 4: envelope\n",
      "Papel e Cia\n",
      "10408445,Envelope (Convite 15x21cm) Rústico papel Kraft 180g\n",
      "15713897,Envelope kraft 15,5x21,5cm com monograma\n",
      "11726209,Adesivo Envelopamento Geladeira e Móveis\n",
      "10835269,KIT Geladeira Envelopamento INOX Prata\n",
      "3148810,Envelopamento de Geladeira Golfinho 0003\n",
      "239115,Envelope luva tamanho 15x21\n",
      "11540651,Adesivo Gold Madeiras MD1805 61 cm x 1m Envelopamento Móveis\n",
      "3676294,Adesivo Gold Madeiras MD1803 61 cm x 1m Envelopamento Móveis\n",
      "7316687,Adesivo Gold Madeiras MC1701 61 cm x 1m Envelopamento Móveis\n",
      "3182046,Adesivo Colorido Envelopamento Geladeira,Moveis\n",
      "\n"
     ]
    }
   ],
   "source": [
    "calc_tests(tests, model_3)"
   ]
  },
  {
   "cell_type": "markdown",
   "id": "d2f54891-180c-44b3-a396-2ae93341942e",
   "metadata": {},
   "source": [
    "Nessa abordagem o sistema começa a divergir a intenção do produto, como 'barba' acaba trazendo coisas relacionadas a 'barbante'.\n",
    "Mesmo a segunda opção tendo pouca variabilidade, ela ainda é mais acertiva. Portanto, o modelo final escolhido será o da abordagem 2."
   ]
  },
  {
   "cell_type": "code",
   "execution_count": 19,
   "id": "99919332-01d4-4fea-832e-d460ad357c2a",
   "metadata": {},
   "outputs": [],
   "source": [
    "# Save recommender model\n",
    "final_model = {'name': 'recommend_system',\n",
    "               'version':1.0,\n",
    "               'model': model_2}\n",
    "\n",
    "save_model(final_model, '../models/recommender.pkl')"
   ]
  },
  {
   "cell_type": "markdown",
   "id": "cf91c7bd-e68c-4a86-a6ee-2a494ac987b7",
   "metadata": {},
   "source": [
    "## Conclusão"
   ]
  },
  {
   "cell_type": "markdown",
   "id": "0a51c3ef-1a8a-442b-b82f-574d8655c8c7",
   "metadata": {},
   "source": [
    "A estratégia para o classificador se mostrou acertiva para os casos testados, porém a recomendação precisa ser melhorada. É possível recomendar produtos bem parecidos com o input, mas seria interessante que eles variassem mais, trazessem novidades e tendências também.\n",
    "\n",
    "Como trabalhos futuros de hipóteses que não foram testas nesse estudo:\n",
    "- Utilizar a informação de concatenated_tags para criar subcategorias dos produtos, sendo assim seria possível recomendar dentro de uma categoria produtos de subcategorias diferentes.\n",
    "- Testar a criação de um espaço vetorial de texto único entre 'query' e 'title', supondo que os termos de 'query' são tentativas de digitar o nome do produto. Isso poderia melhorar as abordagens de cálculo de similaridade.\n",
    "- Se der resultados a segunda hipótese, testar 'concatenated_tags' em conjunto com o 'query' e 'title'."
   ]
  }
 ],
 "metadata": {
  "kernelspec": {
   "display_name": "elo7",
   "language": "python",
   "name": "elo7"
  },
  "language_info": {
   "codemirror_mode": {
    "name": "ipython",
    "version": 3
   },
   "file_extension": ".py",
   "mimetype": "text/x-python",
   "name": "python",
   "nbconvert_exporter": "python",
   "pygments_lexer": "ipython3",
   "version": "3.8.12"
  }
 },
 "nbformat": 4,
 "nbformat_minor": 5
}
