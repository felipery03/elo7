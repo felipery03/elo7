{
 "cells": [
  {
   "cell_type": "markdown",
   "id": "cd1d40bd-2bcb-4432-b6ff-4971eab69749",
   "metadata": {},
   "source": [
    "# Análise Exploratória - Teste Data Science Elo7"
   ]
  },
  {
   "cell_type": "markdown",
   "id": "2b1668c9-e03c-4ede-ae98-9cfca591a023",
   "metadata": {},
   "source": [
    "Nesse notebook será feita uma análise exploratória dos dados disponíveis para o case da etapa teórica do processo seletivo para a vaga no time Data Science do Elo7. Os insights encontrados serão utilizados para criar um modelo de classificação de produto e outro de recomendação.\n",
    "\n",
    "O dataset utilizado pode ser encontrado nesse [link](https://elo7-datasets.s3.amazonaws.com/data_scientist_position/elo7_recruitment_dataset.csv), e ele foi baixado na data 28/03/2022. "
   ]
  },
  {
   "cell_type": "code",
   "execution_count": 1,
   "id": "e1b4a0a4-c361-45d1-992b-7a1c2bb9401d",
   "metadata": {},
   "outputs": [],
   "source": [
    "import pandas as pd\n",
    "import matplotlib.pyplot as plt\n",
    "import seaborn as sns\n",
    "from datetime import datetime"
   ]
  },
  {
   "cell_type": "code",
   "execution_count": 2,
   "id": "2a8415ea-0b67-4132-bff3-735b7234d31e",
   "metadata": {},
   "outputs": [],
   "source": [
    "df = pd.read_csv('../data/elo7_recruitment_dataset.csv')"
   ]
  },
  {
   "cell_type": "markdown",
   "id": "dbc31875-0623-45bd-896b-6b21920a9b63",
   "metadata": {},
   "source": [
    "## 1 - Análise Exploratória"
   ]
  },
  {
   "cell_type": "code",
   "execution_count": 3,
   "id": "4be3edb3-ac21-473d-b972-6d3dee78c704",
   "metadata": {},
   "outputs": [
    {
     "name": "stdout",
     "output_type": "stream",
     "text": [
      "(38507, 15)\n"
     ]
    },
    {
     "data": {
      "text/html": [
       "<div>\n",
       "<style scoped>\n",
       "    .dataframe tbody tr th:only-of-type {\n",
       "        vertical-align: middle;\n",
       "    }\n",
       "\n",
       "    .dataframe tbody tr th {\n",
       "        vertical-align: top;\n",
       "    }\n",
       "\n",
       "    .dataframe thead th {\n",
       "        text-align: right;\n",
       "    }\n",
       "</style>\n",
       "<table border=\"1\" class=\"dataframe\">\n",
       "  <thead>\n",
       "    <tr style=\"text-align: right;\">\n",
       "      <th></th>\n",
       "      <th>product_id</th>\n",
       "      <th>seller_id</th>\n",
       "      <th>query</th>\n",
       "      <th>search_page</th>\n",
       "      <th>position</th>\n",
       "      <th>title</th>\n",
       "      <th>concatenated_tags</th>\n",
       "      <th>creation_date</th>\n",
       "      <th>price</th>\n",
       "      <th>weight</th>\n",
       "      <th>express_delivery</th>\n",
       "      <th>minimum_quantity</th>\n",
       "      <th>view_counts</th>\n",
       "      <th>order_counts</th>\n",
       "      <th>category</th>\n",
       "    </tr>\n",
       "  </thead>\n",
       "  <tbody>\n",
       "    <tr>\n",
       "      <th>0</th>\n",
       "      <td>11394449</td>\n",
       "      <td>8324141</td>\n",
       "      <td>espirito santo</td>\n",
       "      <td>2</td>\n",
       "      <td>6</td>\n",
       "      <td>Mandala Espírito Santo</td>\n",
       "      <td>mandala mdf</td>\n",
       "      <td>2015-11-14 19:42:12</td>\n",
       "      <td>171.890000</td>\n",
       "      <td>1200.0</td>\n",
       "      <td>1</td>\n",
       "      <td>4</td>\n",
       "      <td>244</td>\n",
       "      <td>NaN</td>\n",
       "      <td>Decoração</td>\n",
       "    </tr>\n",
       "    <tr>\n",
       "      <th>1</th>\n",
       "      <td>15534262</td>\n",
       "      <td>6939286</td>\n",
       "      <td>cartao de visita</td>\n",
       "      <td>2</td>\n",
       "      <td>0</td>\n",
       "      <td>Cartão de Visita</td>\n",
       "      <td>cartao visita panfletos tag adesivos copos lon...</td>\n",
       "      <td>2018-04-04 20:55:07</td>\n",
       "      <td>77.670000</td>\n",
       "      <td>8.0</td>\n",
       "      <td>1</td>\n",
       "      <td>5</td>\n",
       "      <td>124</td>\n",
       "      <td>NaN</td>\n",
       "      <td>Papel e Cia</td>\n",
       "    </tr>\n",
       "    <tr>\n",
       "      <th>2</th>\n",
       "      <td>16153119</td>\n",
       "      <td>9835835</td>\n",
       "      <td>expositor de esmaltes</td>\n",
       "      <td>1</td>\n",
       "      <td>38</td>\n",
       "      <td>Organizador expositor p/ 70 esmaltes</td>\n",
       "      <td>expositor</td>\n",
       "      <td>2018-10-13 20:57:07</td>\n",
       "      <td>73.920006</td>\n",
       "      <td>2709.0</td>\n",
       "      <td>1</td>\n",
       "      <td>1</td>\n",
       "      <td>59</td>\n",
       "      <td>NaN</td>\n",
       "      <td>Outros</td>\n",
       "    </tr>\n",
       "    <tr>\n",
       "      <th>3</th>\n",
       "      <td>15877252</td>\n",
       "      <td>8071206</td>\n",
       "      <td>medidas lencol para berco americano</td>\n",
       "      <td>1</td>\n",
       "      <td>6</td>\n",
       "      <td>Jogo de Lençol Berço Estampado</td>\n",
       "      <td>t jogo lencol menino lencol berco</td>\n",
       "      <td>2017-02-27 13:26:03</td>\n",
       "      <td>118.770004</td>\n",
       "      <td>0.0</td>\n",
       "      <td>1</td>\n",
       "      <td>1</td>\n",
       "      <td>180</td>\n",
       "      <td>1.0</td>\n",
       "      <td>Bebê</td>\n",
       "    </tr>\n",
       "    <tr>\n",
       "      <th>4</th>\n",
       "      <td>15917108</td>\n",
       "      <td>7200773</td>\n",
       "      <td>adesivo box banheiro</td>\n",
       "      <td>3</td>\n",
       "      <td>38</td>\n",
       "      <td>ADESIVO BOX DE BANHEIRO</td>\n",
       "      <td>adesivo box banheiro</td>\n",
       "      <td>2017-05-09 13:18:38</td>\n",
       "      <td>191.810000</td>\n",
       "      <td>507.0</td>\n",
       "      <td>1</td>\n",
       "      <td>6</td>\n",
       "      <td>34</td>\n",
       "      <td>NaN</td>\n",
       "      <td>Decoração</td>\n",
       "    </tr>\n",
       "  </tbody>\n",
       "</table>\n",
       "</div>"
      ],
      "text/plain": [
       "   product_id  seller_id                                query  search_page  \\\n",
       "0    11394449    8324141                       espirito santo            2   \n",
       "1    15534262    6939286                     cartao de visita            2   \n",
       "2    16153119    9835835                expositor de esmaltes            1   \n",
       "3    15877252    8071206  medidas lencol para berco americano            1   \n",
       "4    15917108    7200773                 adesivo box banheiro            3   \n",
       "\n",
       "   position                                 title  \\\n",
       "0         6                Mandala Espírito Santo   \n",
       "1         0                      Cartão de Visita   \n",
       "2        38  Organizador expositor p/ 70 esmaltes   \n",
       "3         6        Jogo de Lençol Berço Estampado   \n",
       "4        38               ADESIVO BOX DE BANHEIRO   \n",
       "\n",
       "                                   concatenated_tags        creation_date  \\\n",
       "0                                        mandala mdf  2015-11-14 19:42:12   \n",
       "1  cartao visita panfletos tag adesivos copos lon...  2018-04-04 20:55:07   \n",
       "2                                          expositor  2018-10-13 20:57:07   \n",
       "3                  t jogo lencol menino lencol berco  2017-02-27 13:26:03   \n",
       "4                               adesivo box banheiro  2017-05-09 13:18:38   \n",
       "\n",
       "        price  weight  express_delivery  minimum_quantity  view_counts  \\\n",
       "0  171.890000  1200.0                 1                 4          244   \n",
       "1   77.670000     8.0                 1                 5          124   \n",
       "2   73.920006  2709.0                 1                 1           59   \n",
       "3  118.770004     0.0                 1                 1          180   \n",
       "4  191.810000   507.0                 1                 6           34   \n",
       "\n",
       "   order_counts     category  \n",
       "0           NaN    Decoração  \n",
       "1           NaN  Papel e Cia  \n",
       "2           NaN       Outros  \n",
       "3           1.0         Bebê  \n",
       "4           NaN    Decoração  "
      ]
     },
     "execution_count": 3,
     "metadata": {},
     "output_type": "execute_result"
    }
   ],
   "source": [
    "print(df.shape)\n",
    "df.head()"
   ]
  },
  {
   "cell_type": "code",
   "execution_count": 4,
   "id": "50076ae7-d92a-4dbf-81c6-3b1ca44423f0",
   "metadata": {},
   "outputs": [
    {
     "name": "stdout",
     "output_type": "stream",
     "text": [
      "Produtos únicos: 29801\n"
     ]
    }
   ],
   "source": [
    "print(f'Produtos únicos: {df.product_id.nunique()}')"
   ]
  },
  {
   "cell_type": "code",
   "execution_count": 5,
   "id": "3dcd191f-520f-49ff-8222-dbd65463b312",
   "metadata": {},
   "outputs": [
    {
     "data": {
      "text/plain": [
       "Lembrancinhas         0.461189\n",
       "Decoração             0.229724\n",
       "Bebê                  0.182460\n",
       "Papel e Cia           0.072117\n",
       "Outros                0.029813\n",
       "Bijuterias e Jóias    0.024697\n",
       "Name: category, dtype: float64"
      ]
     },
     "execution_count": 5,
     "metadata": {},
     "output_type": "execute_result"
    }
   ],
   "source": [
    "df.category.value_counts(normalize=True)"
   ]
  },
  {
   "cell_type": "markdown",
   "id": "b3bef6c3-70ff-4f4f-bfd9-e529a702d1d3",
   "metadata": {},
   "source": [
    "Será necessário utilizar algum método de balanceamento para corrigir essa diferença de proporções do target pois ele é bem desbalanceado."
   ]
  },
  {
   "cell_type": "markdown",
   "id": "1f8c9c48-5075-4cbc-96ee-611308c81b5e",
   "metadata": {},
   "source": [
    "### 1 - Entendimento do Negócio"
   ]
  },
  {
   "cell_type": "markdown",
   "id": "cc720fd6-7bc7-4599-9649-c9a2498981c0",
   "metadata": {},
   "source": [
    "- A - Como estão as distribuições dos dados?\n",
    "- B - Quais são os campos Nulos?\n",
    "- C - O mesmo produto aparece em diversas consultas diferentes?\n",
    "- D - Os vendedores costumam vendem vários produtos?\n",
    "- E - Os vendedores costumam vender só uma categoria de produto?\n",
    "- F - Quantos termos a query possuí?\n",
    "- G - Em qual página o produto estava quando foi clicado?\n",
    "- H - Quantas tags os produtos tem?\n",
    "- I - Qual é o formato de texto das tags?\n",
    "- J - Preço e peso estão relacionados a categoria? \n",
    "- K - A variável 'express_delivery' diferencia alguma categoria?\n",
    "- L - A variável 'minimum_quantity' diferencia alguma categoria?\n",
    "- M - As categorias possuem um número diferente de views?\n",
    "- N - As categorias possuem um número diferente de compras?\n",
    "- O - Qual o período que os produtos foram cadastrados?\n",
    "- P - Será que vale tem alguma variável muito correlacionada com peso para utilizá-la para preencher os missings?"
   ]
  },
  {
   "cell_type": "markdown",
   "id": "ea2a6800-3851-45c5-8717-79419c52abdc",
   "metadata": {},
   "source": [
    "### 2 - Entendimento dos dados"
   ]
  },
  {
   "cell_type": "markdown",
   "id": "7dc9b0e2-4e1c-441c-8200-9b94c1cd34ea",
   "metadata": {},
   "source": [
    "Variáveis numéricas\n",
    "- search page\n",
    "- position\n",
    "- creation_date (transformada em dias até hoje)\n",
    "- price\n",
    "- weight\n",
    "- minimum quantity\n",
    "- view counts\n",
    "- order counts\n",
    "\n",
    "Variáveis categóricas\n",
    "- product_id\n",
    "- seller_id\n",
    "- query\n",
    "- title\n",
    "- concatenated_tags\n",
    "- express_delivery\n",
    "- category"
   ]
  },
  {
   "cell_type": "markdown",
   "id": "8325c41f-326c-4fa4-b60f-f3e2bd80b1ce",
   "metadata": {},
   "source": [
    "- A - Como estão as distribuições dos dados?"
   ]
  },
  {
   "cell_type": "code",
   "execution_count": 6,
   "id": "c660d6df-c841-4af7-bd43-81840ba70d72",
   "metadata": {},
   "outputs": [
    {
     "data": {
      "text/html": [
       "<div>\n",
       "<style scoped>\n",
       "    .dataframe tbody tr th:only-of-type {\n",
       "        vertical-align: middle;\n",
       "    }\n",
       "\n",
       "    .dataframe tbody tr th {\n",
       "        vertical-align: top;\n",
       "    }\n",
       "\n",
       "    .dataframe thead th {\n",
       "        text-align: right;\n",
       "    }\n",
       "</style>\n",
       "<table border=\"1\" class=\"dataframe\">\n",
       "  <thead>\n",
       "    <tr style=\"text-align: right;\">\n",
       "      <th></th>\n",
       "      <th>product_id</th>\n",
       "      <th>seller_id</th>\n",
       "      <th>search_page</th>\n",
       "      <th>position</th>\n",
       "      <th>price</th>\n",
       "      <th>weight</th>\n",
       "      <th>express_delivery</th>\n",
       "      <th>minimum_quantity</th>\n",
       "      <th>view_counts</th>\n",
       "      <th>order_counts</th>\n",
       "    </tr>\n",
       "  </thead>\n",
       "  <tbody>\n",
       "    <tr>\n",
       "      <th>count</th>\n",
       "      <td>3.850700e+04</td>\n",
       "      <td>3.850700e+04</td>\n",
       "      <td>38507.000000</td>\n",
       "      <td>38507.000000</td>\n",
       "      <td>38507.000000</td>\n",
       "      <td>38449.000000</td>\n",
       "      <td>38507.000000</td>\n",
       "      <td>38507.000000</td>\n",
       "      <td>38507.000000</td>\n",
       "      <td>18117.00000</td>\n",
       "    </tr>\n",
       "    <tr>\n",
       "      <th>mean</th>\n",
       "      <td>8.342724e+06</td>\n",
       "      <td>5.009902e+06</td>\n",
       "      <td>1.491885</td>\n",
       "      <td>16.889007</td>\n",
       "      <td>84.054157</td>\n",
       "      <td>361.836745</td>\n",
       "      <td>0.780637</td>\n",
       "      <td>14.596567</td>\n",
       "      <td>545.520503</td>\n",
       "      <td>27.38141</td>\n",
       "    </tr>\n",
       "    <tr>\n",
       "      <th>std</th>\n",
       "      <td>4.834912e+06</td>\n",
       "      <td>2.947791e+06</td>\n",
       "      <td>0.980570</td>\n",
       "      <td>11.588534</td>\n",
       "      <td>211.805310</td>\n",
       "      <td>1820.814735</td>\n",
       "      <td>0.413820</td>\n",
       "      <td>43.768937</td>\n",
       "      <td>1416.508602</td>\n",
       "      <td>60.53336</td>\n",
       "    </tr>\n",
       "    <tr>\n",
       "      <th>min</th>\n",
       "      <td>3.610000e+02</td>\n",
       "      <td>8.170000e+02</td>\n",
       "      <td>1.000000</td>\n",
       "      <td>0.000000</td>\n",
       "      <td>0.070000</td>\n",
       "      <td>0.000000</td>\n",
       "      <td>0.000000</td>\n",
       "      <td>0.000000</td>\n",
       "      <td>1.000000</td>\n",
       "      <td>1.00000</td>\n",
       "    </tr>\n",
       "    <tr>\n",
       "      <th>25%</th>\n",
       "      <td>4.142514e+06</td>\n",
       "      <td>2.472772e+06</td>\n",
       "      <td>1.000000</td>\n",
       "      <td>6.000000</td>\n",
       "      <td>12.750000</td>\n",
       "      <td>6.000000</td>\n",
       "      <td>1.000000</td>\n",
       "      <td>3.000000</td>\n",
       "      <td>119.000000</td>\n",
       "      <td>8.00000</td>\n",
       "    </tr>\n",
       "    <tr>\n",
       "      <th>50%</th>\n",
       "      <td>8.375490e+06</td>\n",
       "      <td>4.917720e+06</td>\n",
       "      <td>1.000000</td>\n",
       "      <td>16.000000</td>\n",
       "      <td>28.490000</td>\n",
       "      <td>9.000000</td>\n",
       "      <td>1.000000</td>\n",
       "      <td>7.000000</td>\n",
       "      <td>242.000000</td>\n",
       "      <td>15.00000</td>\n",
       "    </tr>\n",
       "    <tr>\n",
       "      <th>75%</th>\n",
       "      <td>1.253089e+07</td>\n",
       "      <td>7.640886e+06</td>\n",
       "      <td>2.000000</td>\n",
       "      <td>27.000000</td>\n",
       "      <td>90.000000</td>\n",
       "      <td>107.000000</td>\n",
       "      <td>1.000000</td>\n",
       "      <td>16.000000</td>\n",
       "      <td>521.000000</td>\n",
       "      <td>26.00000</td>\n",
       "    </tr>\n",
       "    <tr>\n",
       "      <th>max</th>\n",
       "      <td>1.669295e+07</td>\n",
       "      <td>1.011887e+07</td>\n",
       "      <td>5.000000</td>\n",
       "      <td>38.000000</td>\n",
       "      <td>11509.380000</td>\n",
       "      <td>65009.000000</td>\n",
       "      <td>1.000000</td>\n",
       "      <td>3000.000000</td>\n",
       "      <td>45010.000000</td>\n",
       "      <td>2460.00000</td>\n",
       "    </tr>\n",
       "  </tbody>\n",
       "</table>\n",
       "</div>"
      ],
      "text/plain": [
       "         product_id     seller_id   search_page      position         price  \\\n",
       "count  3.850700e+04  3.850700e+04  38507.000000  38507.000000  38507.000000   \n",
       "mean   8.342724e+06  5.009902e+06      1.491885     16.889007     84.054157   \n",
       "std    4.834912e+06  2.947791e+06      0.980570     11.588534    211.805310   \n",
       "min    3.610000e+02  8.170000e+02      1.000000      0.000000      0.070000   \n",
       "25%    4.142514e+06  2.472772e+06      1.000000      6.000000     12.750000   \n",
       "50%    8.375490e+06  4.917720e+06      1.000000     16.000000     28.490000   \n",
       "75%    1.253089e+07  7.640886e+06      2.000000     27.000000     90.000000   \n",
       "max    1.669295e+07  1.011887e+07      5.000000     38.000000  11509.380000   \n",
       "\n",
       "             weight  express_delivery  minimum_quantity   view_counts  \\\n",
       "count  38449.000000      38507.000000      38507.000000  38507.000000   \n",
       "mean     361.836745          0.780637         14.596567    545.520503   \n",
       "std     1820.814735          0.413820         43.768937   1416.508602   \n",
       "min        0.000000          0.000000          0.000000      1.000000   \n",
       "25%        6.000000          1.000000          3.000000    119.000000   \n",
       "50%        9.000000          1.000000          7.000000    242.000000   \n",
       "75%      107.000000          1.000000         16.000000    521.000000   \n",
       "max    65009.000000          1.000000       3000.000000  45010.000000   \n",
       "\n",
       "       order_counts  \n",
       "count   18117.00000  \n",
       "mean       27.38141  \n",
       "std        60.53336  \n",
       "min         1.00000  \n",
       "25%         8.00000  \n",
       "50%        15.00000  \n",
       "75%        26.00000  \n",
       "max      2460.00000  "
      ]
     },
     "execution_count": 6,
     "metadata": {},
     "output_type": "execute_result"
    }
   ],
   "source": [
    "df.describe()"
   ]
  },
  {
   "cell_type": "markdown",
   "id": "481e5dd9-df04-4049-a6c5-99f2974ef02c",
   "metadata": {},
   "source": [
    "- B - Quais são os campos Nulos?"
   ]
  },
  {
   "cell_type": "code",
   "execution_count": 7,
   "id": "55d2244b-ecab-4754-bf85-86e0a2aadced",
   "metadata": {},
   "outputs": [
    {
     "data": {
      "text/plain": [
       "order_counts         20390\n",
       "weight                  58\n",
       "concatenated_tags        2\n",
       "product_id               0\n",
       "seller_id                0\n",
       "query                    0\n",
       "search_page              0\n",
       "position                 0\n",
       "title                    0\n",
       "creation_date            0\n",
       "price                    0\n",
       "express_delivery         0\n",
       "minimum_quantity         0\n",
       "view_counts              0\n",
       "category                 0\n",
       "dtype: int64"
      ]
     },
     "execution_count": 7,
     "metadata": {},
     "output_type": "execute_result"
    }
   ],
   "source": [
    "df.isnull().sum().sort_values(ascending=False)"
   ]
  },
  {
   "cell_type": "markdown",
   "id": "a9a2cf2f-b995-45e3-a44c-1fdf74955017",
   "metadata": {},
   "source": [
    "A variável 'weight' pode estar com peso 0 ou nulo."
   ]
  },
  {
   "cell_type": "code",
   "execution_count": 8,
   "id": "26f7fbf3-61e1-4bde-920e-bde1b0a05fa5",
   "metadata": {},
   "outputs": [],
   "source": [
    "base_color = sns.color_palette()[0]"
   ]
  },
  {
   "cell_type": "markdown",
   "id": "1994eada-cd44-44d1-8be3-d3dfcb5f074e",
   "metadata": {},
   "source": [
    "- C - O mesmo produto aparece em diversas consultas diferentes?"
   ]
  },
  {
   "cell_type": "code",
   "execution_count": 9,
   "id": "c4969d92-f953-4e23-9ec0-dc3d9101118e",
   "metadata": {},
   "outputs": [
    {
     "data": {
      "image/png": "[encoded data removed]",
      "text/plain": [
       "<Figure size 432x288 with 1 Axes>"
      ]
     },
     "metadata": {
      "needs_background": "light"
     },
     "output_type": "display_data"
    }
   ],
   "source": [
    "sns.countplot(x=df.product_id.value_counts(), color=base_color);"
   ]
  },
  {
   "cell_type": "markdown",
   "id": "3cbcddb1-ab61-4d74-8ce4-177a72c96421",
   "metadata": {},
   "source": [
    "A maioria dos produtos que estão no dataset aparecem no máximo 2 vezes"
   ]
  },
  {
   "cell_type": "markdown",
   "id": "ab534543-9601-4cd2-8621-ed04c8f9ddeb",
   "metadata": {},
   "source": [
    "- D - Os vendedores costumam vendem vários produtos?"
   ]
  },
  {
   "cell_type": "code",
   "execution_count": 10,
   "id": "2cd385fb-ab76-4b34-9850-cace72304246",
   "metadata": {},
   "outputs": [
    {
     "data": {
      "image/png": "[encoded data removed]",
      "text/plain": [
       "<Figure size 432x288 with 1 Axes>"
      ]
     },
     "metadata": {
      "needs_background": "light"
     },
     "output_type": "display_data"
    }
   ],
   "source": [
    "sns.countplot(x=df.seller_id.value_counts(), color=base_color);\n",
    "plt.xlim(0, 20);"
   ]
  },
  {
   "cell_type": "markdown",
   "id": "113e3b90-8c1c-49ae-9ede-653a55113f78",
   "metadata": {},
   "source": [
    "Os vendedores vendem poucos produtos no geral"
   ]
  },
  {
   "cell_type": "markdown",
   "id": "70539993-4cf8-48ca-90b8-7785cd7f2530",
   "metadata": {},
   "source": [
    "- E - Os vendedores costumam vender só uma categoria de produto?"
   ]
  },
  {
   "cell_type": "code",
   "execution_count": 11,
   "id": "ef25d89b-8208-44c7-bcf4-e85880bd9d75",
   "metadata": {},
   "outputs": [],
   "source": [
    "seller_cats = df[['seller_id', 'product_id', 'category']].drop_duplicates()\n",
    "seller_cats = seller_cats.groupby(['seller_id', 'category']).product_id.count()"
   ]
  },
  {
   "cell_type": "code",
   "execution_count": 12,
   "id": "dc77f09b-9dec-4faf-b45b-f338061d8e10",
   "metadata": {},
   "outputs": [
    {
     "name": "stdout",
     "output_type": "stream",
     "text": [
      "46.13% dos vendedores vendem mais de um produto\n"
     ]
    }
   ],
   "source": [
    "print(f'{round((seller_cats > 1).mean()*100, 2)}% dos vendedores vendem mais de um produto')"
   ]
  },
  {
   "cell_type": "code",
   "execution_count": 13,
   "id": "e70e6964-59a0-4d7a-a05c-5d96323a7410",
   "metadata": {},
   "outputs": [],
   "source": [
    "seller_unique_cats = seller_cats[seller_cats > 1].groupby('seller_id').count()"
   ]
  },
  {
   "cell_type": "code",
   "execution_count": 14,
   "id": "9b7c5ee6-666b-4f6a-991c-90915a4c61bb",
   "metadata": {},
   "outputs": [
    {
     "name": "stdout",
     "output_type": "stream",
     "text": [
      "92.29% dos vendedores que possuem 2 produtos ou mais, vendem uma única categoria de produto. Ou seja, uma heurística interessante é supor que um novo produto cadastrado pelo mesmo vendedor será da mesma categoria.\n"
     ]
    }
   ],
   "source": [
    "print(f'{round((seller_unique_cats == 1).mean()*100, 2)}% dos vendedores que possuem 2 produtos ou mais, vendem uma única categoria de produto. Ou seja, uma heurística interessante é supor que um novo produto cadastrado pelo mesmo vendedor será da mesma categoria.')"
   ]
  },
  {
   "cell_type": "markdown",
   "id": "f76a09a2-7e3f-45c8-b877-b5c587a027f1",
   "metadata": {},
   "source": [
    "- F - Quantos termos a query possuí?"
   ]
  },
  {
   "cell_type": "code",
   "execution_count": 15,
   "id": "84da5637-eb41-471b-96af-0bb18dd941ee",
   "metadata": {},
   "outputs": [
    {
     "data": {
      "image/png": "[encoded data removed]",
      "text/plain": [
       "<Figure size 432x288 with 1 Axes>"
      ]
     },
     "metadata": {
      "needs_background": "light"
     },
     "output_type": "display_data"
    }
   ],
   "source": [
    "sns.countplot(x=df['query'].str.split().apply(lambda x: len(x)), color=base_color);\n",
    "plt.title('Número de termos na query');"
   ]
  },
  {
   "cell_type": "markdown",
   "id": "24d0bb9c-e451-4f00-a928-72c8026f6efc",
   "metadata": {},
   "source": [
    "- G - Em qual página o produto estava quando foi clicado?"
   ]
  },
  {
   "cell_type": "code",
   "execution_count": 16,
   "id": "88286a07-50dd-4dca-bddc-59f06c9ff50d",
   "metadata": {},
   "outputs": [
    {
     "data": {
      "image/png": "[encoded data removed]",
      "text/plain": [
       "<Figure size 432x288 with 1 Axes>"
      ]
     },
     "metadata": {
      "needs_background": "light"
     },
     "output_type": "display_data"
    }
   ],
   "source": [
    "sns.countplot(x=df.search_page, color=base_color);\n",
    "plt.title('Página que foi encontrado o produto clicado');"
   ]
  },
  {
   "cell_type": "markdown",
   "id": "14f7622d-1f3a-4f1e-a429-8d7db7ed02c3",
   "metadata": {},
   "source": [
    "O sistema de recomendação atual está funcionando razoavelmente no nível página, pois os cliques acontecem na maioria na primeira página"
   ]
  },
  {
   "cell_type": "markdown",
   "id": "c6de61f6-1a4e-445a-bec7-2fe7b067cde8",
   "metadata": {},
   "source": [
    "- H - Quantas tags os produtos tem?"
   ]
  },
  {
   "cell_type": "code",
   "execution_count": 17,
   "id": "089cf6ed-8012-452a-abe6-495f1d208e91",
   "metadata": {},
   "outputs": [],
   "source": [
    "tags = df.concatenated_tags.str.split()"
   ]
  },
  {
   "cell_type": "code",
   "execution_count": 18,
   "id": "640b19e0-f9a9-419a-b06b-c8e3451d5bfa",
   "metadata": {},
   "outputs": [
    {
     "data": {
      "image/png": "[encoded data removed]",
      "text/plain": [
       "<Figure size 432x288 with 1 Axes>"
      ]
     },
     "metadata": {
      "needs_background": "light"
     },
     "output_type": "display_data"
    }
   ],
   "source": [
    "sns.countplot(x=tags.fillna('').apply(lambda x: len(x)), color=base_color);\n",
    "plt.xlim(0, 30);\n",
    "plt.title('Número de tags por produto');\n",
    "plt.xlabel('Número de tags');"
   ]
  },
  {
   "cell_type": "markdown",
   "id": "f20b5d36-5d07-4f7c-91ae-1ad8e1a83f53",
   "metadata": {},
   "source": [
    "A maioria possuí de 2 a 4 tags."
   ]
  },
  {
   "cell_type": "markdown",
   "id": "9fae18e5-0f93-4978-8bf7-a7a2579ea99b",
   "metadata": {},
   "source": [
    "- I - Qual é o formato de texto das tags?"
   ]
  },
  {
   "cell_type": "code",
   "execution_count": 19,
   "id": "d69523d2-aade-48cd-aab4-36bd88269c1c",
   "metadata": {},
   "outputs": [],
   "source": [
    "unique_tags = set(tags.dropna().sum())"
   ]
  },
  {
   "cell_type": "code",
   "execution_count": 20,
   "id": "99153bd7-06dc-4f4c-995b-2b0be2f27d05",
   "metadata": {},
   "outputs": [
    {
     "data": {
      "text/plain": [
       "['minhaa',\n",
       " 'cairo',\n",
       " 'culote',\n",
       " 'festa1anoemma',\n",
       " '50ml',\n",
       " 'escandinavo',\n",
       " 'estantes',\n",
       " 'comes',\n",
       " 'pixar',\n",
       " 'apostila',\n",
       " 'mitzvah',\n",
       " 'luara',\n",
       " 'gus',\n",
       " 'copo,canecas,baldes',\n",
       " 'cordel',\n",
       " 'tira',\n",
       " '300',\n",
       " 'bandeirola',\n",
       " 'locao',\n",
       " '250']"
      ]
     },
     "execution_count": 20,
     "metadata": {},
     "output_type": "execute_result"
    }
   ],
   "source": [
    "list(unique_tags)[:20]"
   ]
  },
  {
   "cell_type": "markdown",
   "id": "895013b4-542b-40ce-8044-c3451e2c564b",
   "metadata": {},
   "source": [
    "A variável tag é campo aberto, esperava que fosse um número limitado de opções"
   ]
  },
  {
   "cell_type": "markdown",
   "id": "74d54f11-8e9f-4318-98ac-f68a54a2df12",
   "metadata": {},
   "source": [
    "- J - Preço e peso estão relacionados a categoria? \n",
    "Obs. provavelmente peso seja menos confiável porque ele é fornecido pelo vendedor"
   ]
  },
  {
   "cell_type": "markdown",
   "id": "7f3ed923-628c-43a0-97ee-2298fd950962",
   "metadata": {},
   "source": [
    "Foi aplicado uma escala logaritmica no preço e peso para ficar mais fácil a visualização"
   ]
  },
  {
   "cell_type": "code",
   "execution_count": 21,
   "id": "5c92a7ae-e8e2-4ac0-aca9-2995ee4e5381",
   "metadata": {},
   "outputs": [
    {
     "data": {
      "image/png": "[encoded data removed]",
      "text/plain": [
       "<Figure size 432x288 with 1 Axes>"
      ]
     },
     "metadata": {
      "needs_background": "light"
     },
     "output_type": "display_data"
    }
   ],
   "source": [
    "sns.boxplot(x=df.category, y=df.price, color=base_color);\n",
    "plt.yscale('log');"
   ]
  },
  {
   "cell_type": "markdown",
   "id": "c69fa7e2-a298-4603-b573-b8b97ffa47cc",
   "metadata": {},
   "source": [
    "As categorias decoração, Bebê e Bijuterias e Jóias tem uma tendência de terem preços mais elevados.\n",
    "E lembrancinhas tendem a ter preços menores."
   ]
  },
  {
   "cell_type": "code",
   "execution_count": 22,
   "id": "c17f2a08-468b-4a0a-8b64-e78e1ea426f2",
   "metadata": {},
   "outputs": [],
   "source": [
    "clean_weight = df[~(df.weight.isnull()) & (df.weight != 0)]"
   ]
  },
  {
   "cell_type": "code",
   "execution_count": 23,
   "id": "371a0f58-0368-4710-bbb9-a1cfbe7d41ab",
   "metadata": {},
   "outputs": [
    {
     "data": {
      "image/png": "[encoded data removed]",
      "text/plain": [
       "<Figure size 432x288 with 1 Axes>"
      ]
     },
     "metadata": {
      "needs_background": "light"
     },
     "output_type": "display_data"
    }
   ],
   "source": [
    "sns.boxplot(x=clean_weight.category, y=clean_weight.weight, color=base_color);\n",
    "plt.yscale('log');"
   ]
  },
  {
   "cell_type": "markdown",
   "id": "5e259863-21da-4690-9a99-43462fddf2e4",
   "metadata": {},
   "source": [
    "Decoração tende a pesar mais. Papel e Cia, Lembrancinhas e Bijuterias e Jóias a pesarem menos."
   ]
  },
  {
   "cell_type": "markdown",
   "id": "ebc4fd4d-bac9-400b-97e9-a991d4c6fd3f",
   "metadata": {},
   "source": [
    "- K - A variável 'express_delivery' diferencia alguma categoria?"
   ]
  },
  {
   "cell_type": "code",
   "execution_count": 24,
   "id": "aeab5be0-1e65-4018-8269-1616f00ef247",
   "metadata": {},
   "outputs": [],
   "source": [
    "prop_express_delivery = df.groupby('category').express_delivery.mean()\n",
    "prop_express_delivery.sort_values(ascending=False, inplace=True)"
   ]
  },
  {
   "cell_type": "code",
   "execution_count": 25,
   "id": "75f3f7d7-e106-4c3e-b6ba-4319663bc5f1",
   "metadata": {},
   "outputs": [
    {
     "data": {
      "image/png": "[encoded data removed]",
      "text/plain": [
       "<Figure size 432x288 with 1 Axes>"
      ]
     },
     "metadata": {
      "needs_background": "light"
     },
     "output_type": "display_data"
    }
   ],
   "source": [
    "plt.bar(prop_express_delivery.index, prop_express_delivery);"
   ]
  },
  {
   "cell_type": "markdown",
   "id": "fc323efd-72a3-4d41-a92f-b82d1398baf2",
   "metadata": {},
   "source": [
    "A categoria Bijuteria e Jóias tem uma proporção consideravelmente menor a pronta entrega, porém ela só contempla 2,5% da nossa base."
   ]
  },
  {
   "cell_type": "markdown",
   "id": "3157c742-3144-40e7-bb1f-574a24b091d2",
   "metadata": {},
   "source": [
    "- L - A variável 'minimum_quantity' diferencia alguma categoria?"
   ]
  },
  {
   "cell_type": "code",
   "execution_count": 26,
   "id": "be5848bb-f733-47c3-9b9c-44294091de82",
   "metadata": {},
   "outputs": [
    {
     "data": {
      "image/png": "[encoded data removed]",
      "text/plain": [
       "<Figure size 432x288 with 1 Axes>"
      ]
     },
     "metadata": {
      "needs_background": "light"
     },
     "output_type": "display_data"
    }
   ],
   "source": [
    "sns.boxplot(x=df.category, y=df.minimum_quantity, color=base_color);\n",
    "plt.yscale('log');"
   ]
  },
  {
   "cell_type": "markdown",
   "id": "b028d0b2-0201-4a48-b1a3-66b22b2e2c46",
   "metadata": {},
   "source": [
    "Lembrancinhas tem pedidos mínimos com valores maiores. E papel e cia também possuí uma leve diferenciação."
   ]
  },
  {
   "cell_type": "markdown",
   "id": "25c56029-da4a-4ae2-b3e0-69874ac7c3e6",
   "metadata": {},
   "source": [
    "- M - As categorias possuem um número diferente de views?"
   ]
  },
  {
   "cell_type": "code",
   "execution_count": 27,
   "id": "17ce4bce-d02a-415c-af61-92a5b4152fbc",
   "metadata": {},
   "outputs": [
    {
     "data": {
      "image/png": "[encoded data removed]",
      "text/plain": [
       "<Figure size 432x288 with 1 Axes>"
      ]
     },
     "metadata": {
      "needs_background": "light"
     },
     "output_type": "display_data"
    }
   ],
   "source": [
    "sns.boxplot(x=df.category, y=df.view_counts, color=base_color);\n",
    "plt.yscale('log');"
   ]
  },
  {
   "cell_type": "markdown",
   "id": "9326cf93-7c2c-45ce-b324-3b29b182a7bf",
   "metadata": {},
   "source": [
    "Ambas categorias em questões de views são bem equilibradas."
   ]
  },
  {
   "cell_type": "markdown",
   "id": "9e1ccd8e-ec0c-4421-9889-8cadb98fa25d",
   "metadata": {},
   "source": [
    "- N - As categorias possuem um número diferente de compras?"
   ]
  },
  {
   "cell_type": "code",
   "execution_count": 28,
   "id": "874e0254-cc99-4df8-b56a-c28ae6f4acdd",
   "metadata": {},
   "outputs": [
    {
     "data": {
      "image/png": "[encoded data removed]",
      "text/plain": [
       "<Figure size 432x288 with 1 Axes>"
      ]
     },
     "metadata": {
      "needs_background": "light"
     },
     "output_type": "display_data"
    }
   ],
   "source": [
    "sns.boxplot(x=df.category, y=df.order_counts, color=base_color);\n",
    "plt.yscale('log');"
   ]
  },
  {
   "cell_type": "markdown",
   "id": "abb4f2d4-7ad7-467f-a152-170aa7316377",
   "metadata": {},
   "source": [
    "Ambas categorias em questões de compras são balanceadas também."
   ]
  },
  {
   "cell_type": "markdown",
   "id": "98029058-d4af-4760-a38a-5d5c3281ee54",
   "metadata": {},
   "source": [
    "Para o classificador de categoria view_couts e order_counts não demonstram ser tão úteis, porém essas informações serão importantes para o sistema de recomendação."
   ]
  },
  {
   "cell_type": "markdown",
   "id": "277de878-6430-4ff7-8eef-d6f12e3d7147",
   "metadata": {},
   "source": [
    "- O - Qual o período que os produtos foram cadastrados?"
   ]
  },
  {
   "cell_type": "code",
   "execution_count": 29,
   "id": "279399f9-3dcb-41e9-a4d0-7fb9b96c5c95",
   "metadata": {},
   "outputs": [],
   "source": [
    "today = '2022-03-29'"
   ]
  },
  {
   "cell_type": "code",
   "execution_count": 30,
   "id": "2c2141de-b605-43c8-8e6a-0666164a759a",
   "metadata": {},
   "outputs": [
    {
     "name": "stdout",
     "output_type": "stream",
     "text": [
      "2022-03-29 00:00:00\n"
     ]
    }
   ],
   "source": [
    "print (datetime.fromisoformat(today))"
   ]
  },
  {
   "cell_type": "code",
   "execution_count": 31,
   "id": "88152658-2c19-48aa-85d6-5e5697ad1205",
   "metadata": {},
   "outputs": [
    {
     "data": {
      "text/plain": [
       "'2008-11-05 22:57:17'"
      ]
     },
     "execution_count": 31,
     "metadata": {},
     "output_type": "execute_result"
    }
   ],
   "source": [
    "df.creation_date.min()"
   ]
  },
  {
   "cell_type": "code",
   "execution_count": 32,
   "id": "1199920c-dd49-465e-a517-cb6d2bf5b7b4",
   "metadata": {},
   "outputs": [
    {
     "data": {
      "text/plain": [
       "'2020-01-03 12:31:05'"
      ]
     },
     "execution_count": 32,
     "metadata": {},
     "output_type": "execute_result"
    }
   ],
   "source": [
    "df.creation_date.max()"
   ]
  },
  {
   "cell_type": "code",
   "execution_count": 33,
   "id": "3586a0db-735d-47a5-abe4-a83a5ffaa9ca",
   "metadata": {},
   "outputs": [],
   "source": [
    "df['days_since_creation'] = (datetime.fromisoformat(today) - df.creation_date.apply(datetime.fromisoformat)).dt.days"
   ]
  },
  {
   "cell_type": "code",
   "execution_count": 34,
   "id": "35c19d1a-a231-4031-9e47-9fc65cb5680f",
   "metadata": {},
   "outputs": [
    {
     "data": {
      "image/png": "[encoded data removed]",
      "text/plain": [
       "<Figure size 432x288 with 1 Axes>"
      ]
     },
     "metadata": {
      "needs_background": "light"
     },
     "output_type": "display_data"
    }
   ],
   "source": [
    "plt.hist(df.days_since_creation);"
   ]
  },
  {
   "cell_type": "markdown",
   "id": "7256be49-3214-4779-a3de-b466e71086cd",
   "metadata": {},
   "source": [
    "São produtos com pelo menos 2 anos na base. Em questão de temporalidade, já aconteceu muita coisa inclusive a pandemia."
   ]
  },
  {
   "cell_type": "markdown",
   "id": "cd58b299-012b-476a-b15a-7327131b1d75",
   "metadata": {},
   "source": [
    "- P - Será que vale tem alguma variável muito correlacionada com peso para utilizá-la para preencher os missings?"
   ]
  },
  {
   "cell_type": "code",
   "execution_count": 35,
   "id": "089a96fe-93c4-4621-9f37-30ac700f34f0",
   "metadata": {},
   "outputs": [
    {
     "data": {
      "image/png": "[encoded data removed]",
      "text/plain": [
       "<Figure size 432x288 with 2 Axes>"
      ]
     },
     "metadata": {
      "needs_background": "light"
     },
     "output_type": "display_data"
    }
   ],
   "source": [
    "sns.heatmap(df.corr('spearman'), annot=True, fmt='.2f');"
   ]
  },
  {
   "cell_type": "markdown",
   "id": "6c438b72-2297-492c-be0f-fc19e4ed7761",
   "metadata": {},
   "source": [
    "'price' e 'weight' tem a maior correlação, daria para usar intervalos do preço para calcular a mediana do peso para preencher os missings, mas a correlação é muito fraca."
   ]
  },
  {
   "cell_type": "code",
   "execution_count": 36,
   "id": "3734126c-d637-4772-8d6e-55800b3f4ec4",
   "metadata": {},
   "outputs": [],
   "source": [
    "miss_weight_pct = round(sum((df.weight.isnull())|(df.weight==0))/df.shape[0]*100, 2)"
   ]
  },
  {
   "cell_type": "code",
   "execution_count": 37,
   "id": "84b31aba-a06b-424f-bfdb-cbf4b080f4d9",
   "metadata": {},
   "outputs": [
    {
     "name": "stdout",
     "output_type": "stream",
     "text": [
      "11.57% de \"weight\" é missing, porém mesmo assim não vale a pena usar a informação de \"price\"\n"
     ]
    }
   ],
   "source": [
    "print(f'{miss_weight_pct}% de \"weight\" é missing, porém mesmo assim não vale a pena usar a informação de \"price\"')"
   ]
  }
 ],
 "metadata": {
  "kernelspec": {
   "display_name": "elo7",
   "language": "python",
   "name": "elo7"
  },
  "language_info": {
   "codemirror_mode": {
    "name": "ipython",
    "version": 3
   },
   "file_extension": ".py",
   "mimetype": "text/x-python",
   "name": "python",
   "nbconvert_exporter": "python",
   "pygments_lexer": "ipython3",
   "version": "3.8.12"
  }
 },
 "nbformat": 4,
 "nbformat_minor": 5
}
